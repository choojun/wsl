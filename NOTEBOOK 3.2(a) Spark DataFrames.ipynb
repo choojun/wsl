{
 "cells": [
  {
   "cell_type": "markdown",
   "metadata": {
    "application/vnd.databricks.v1+cell": {
     "cellMetadata": {},
     "inputWidgets": {},
     "nuid": "7f1436a0-3357-4850-b507-a12c76e60c22",
     "showTitle": false,
     "title": ""
    },
    "id": "IZ23YJVlBAHz"
   },
   "source": [
    "# NOTEBOOK 3.2 Spark DataFrames"
   ]
  },
  {
   "cell_type": "markdown",
   "metadata": {
    "application/vnd.databricks.v1+cell": {
     "cellMetadata": {},
     "inputWidgets": {},
     "nuid": "c8b85703-a9de-4ac7-892a-b1fb92ac4442",
     "showTitle": false,
     "title": ""
    },
    "id": "qSNqFE1-BAH3"
   },
   "source": [
    "# 1. Create Spark DataFrames"
   ]
  },
  {
   "cell_type": "code",
   "execution_count": 1,
   "metadata": {
    "id": "MFbXUFHMBb7f"
   },
   "outputs": [
    {
     "name": "stderr",
     "output_type": "stream",
     "text": [
      "25/06/12 14:16:53 WARN Utils: Your hostname, PC25. resolves to a loopback address: 127.0.1.1; using 192.168.76.195 instead (on interface eth0)\n",
      "25/06/12 14:16:53 WARN Utils: Set SPARK_LOCAL_IP if you need to bind to another address\n",
      "Setting default log level to \"WARN\".\n",
      "To adjust logging level use sc.setLogLevel(newLevel). For SparkR, use setLogLevel(newLevel).\n",
      "25/06/12 14:16:54 WARN NativeCodeLoader: Unable to load native-hadoop library for your platform... using builtin-java classes where applicable\n"
     ]
    }
   ],
   "source": [
    "from pyspark.sql import SparkSession\n",
    "spark = SparkSession.builder.getOrCreate()"
   ]
  },
  {
   "cell_type": "markdown",
   "metadata": {},
   "source": [
    "## 1.1 Create Spark DataFrames from a List of Row objects"
   ]
  },
  {
   "cell_type": "code",
   "execution_count": 2,
   "metadata": {
    "application/vnd.databricks.v1+cell": {
     "cellMetadata": {
      "byteLimit": 2048000,
      "rowLimit": 10000
     },
     "inputWidgets": {},
     "nuid": "0269a412-f57f-4c05-b079-4f7236b5cbc8",
     "showTitle": true,
     "title": "Create Dataframe from list of rows"
    },
    "id": "HIdzNggFBAH3"
   },
   "outputs": [],
   "source": [
    "from datetime import datetime, date\n",
    "from pyspark.sql import Row\n",
    "\n",
    "data_df = spark.createDataFrame([\n",
    "    Row(col_1=100, col_2=200., col_3='string_test_1', col_4=date(2023, 1, 1), col_5=datetime(2023, 1, 1, 12, 0)),\n",
    "    Row(col_1=200, col_2=300., col_3='string_test_2', col_4=date(2023, 2, 1), col_5=datetime(2023, 1, 2, 12, 0)),\n",
    "    Row(col_1=400, col_2=500., col_3='string_test_3', col_4=date(2023, 3, 1), col_5=datetime(2023, 1, 3, 12, 0))\n",
    "])"
   ]
  },
  {
   "cell_type": "markdown",
   "metadata": {},
   "source": [
    "## 1.2 Create Spark DataFrames with a Schema using DDL"
   ]
  },
  {
   "cell_type": "code",
   "execution_count": 3,
   "metadata": {
    "application/vnd.databricks.v1+cell": {
     "cellMetadata": {
      "byteLimit": 2048000,
      "rowLimit": 10000
     },
     "inputWidgets": {},
     "nuid": "70b00e29-29b9-47c6-9353-aecc105f5aba",
     "showTitle": true,
     "title": "Create Dataframe from list of rows using schema"
    },
    "id": "qLdTcQl0BAH5"
   },
   "outputs": [],
   "source": [
    "data_df = spark.createDataFrame([\n",
    "    Row(col_1=100, col_2=200., col_3='string_test_1', col_4=date(2023, 1, 1), col_5=datetime(2023, 1, 1, 12, 0)),\n",
    "    Row(col_1=200, col_2=300., col_3='string_test_2', col_4=date(2023, 2, 1), col_5=datetime(2023, 1, 2, 12, 0)),\n",
    "    Row(col_1=400, col_2=500., col_3='string_test_3', col_4=date(2023, 3, 1), col_5=datetime(2023, 1, 3, 12, 0))\n",
    "], schema=' col_1 long, col_2 double, col_3 string, col_4 date, col_5 timestamp')"
   ]
  },
  {
   "cell_type": "markdown",
   "metadata": {},
   "source": [
    "## 1.3 Create Spark DataFrames from an RDD"
   ]
  },
  {
   "cell_type": "code",
   "execution_count": 4,
   "metadata": {
    "application/vnd.databricks.v1+cell": {
     "cellMetadata": {
      "byteLimit": 2048000,
      "rowLimit": 10000
     },
     "inputWidgets": {},
     "nuid": "a1791d2e-ff43-4557-ad31-a2d92c3a21a8",
     "showTitle": false,
     "title": ""
    },
    "id": "UoENlcXjBAH6"
   },
   "outputs": [
    {
     "name": "stderr",
     "output_type": "stream",
     "text": [
      "                                                                                \r"
     ]
    }
   ],
   "source": [
    "rdd = spark.sparkContext.parallelize([\n",
    "    (100, 200., 'string_test_1', date(2023, 1, 1), 5.5),\n",
    "    (100, 200., 'string_test_1', date(2023, 1, 1), 10.2),\n",
    "    (200, 300., 'string_test_2', date(2023, 2, 1), None),\n",
    "    (100, 400., 'string_test_3', date(2023, 3, 1), 3.1),\n",
    "    (300, 400., 'string_test_3', date(2023, 3, 1), 7.8),\n",
    "    (300, 400., 'string_test_3', date(2023, 3, 1), 4.9),\n",
    "    (200, 300., 'string_test_2', date(2023, 2, 1), 6.8),\n",
    "    (200, 300., 'string_test_2', date(2023, 2, 1), 1.7),\n",
    "    (400, 400., None, None, 8.8),\n",
    "    (500, 500., None, date(2023, 2, 1), None)\n",
    "    ])\n",
    "\n",
    "data_df = spark.createDataFrame(rdd, schema=['col_1', 'col_2', 'col_3', 'col_4', 'col_5'])"
   ]
  },
  {
   "cell_type": "markdown",
   "metadata": {
    "application/vnd.databricks.v1+cell": {
     "cellMetadata": {},
     "inputWidgets": {},
     "nuid": "d87a4498-fa76-444e-984b-25cec32fb37c",
     "showTitle": false,
     "title": ""
    },
    "id": "pC_Odly-BAH6"
   },
   "source": [
    "# 2. Viewing Dataframes"
   ]
  },
  {
   "cell_type": "code",
   "execution_count": 5,
   "metadata": {
    "application/vnd.databricks.v1+cell": {
     "cellMetadata": {
      "byteLimit": 2048000,
      "rowLimit": 10000
     },
     "inputWidgets": {},
     "nuid": "d4e5a140-b2bd-4cf3-8798-6fecb6164064",
     "showTitle": true,
     "title": "Viewing DataFrames "
    },
    "colab": {
     "base_uri": "https://localhost:8080/"
    },
    "executionInfo": {
     "elapsed": 4816,
     "status": "ok",
     "timestamp": 1730637545626,
     "user": {
      "displayName": "TAN SWEE NEO KATHLEEN",
      "userId": "08125048316560176091"
     },
     "user_tz": -480
    },
    "id": "jl6yogcXBAH6",
    "outputId": "136ea54f-015c-4e93-a1fd-c9194e30cd94"
   },
   "outputs": [
    {
     "name": "stdout",
     "output_type": "stream",
     "text": [
      "+-----+-----+-------------+----------+-----+\n",
      "|col_1|col_2|        col_3|     col_4|col_5|\n",
      "+-----+-----+-------------+----------+-----+\n",
      "|  100|200.0|string_test_1|2023-01-01|  5.5|\n",
      "|  100|200.0|string_test_1|2023-01-01| 10.2|\n",
      "|  200|300.0|string_test_2|2023-02-01| NULL|\n",
      "|  100|400.0|string_test_3|2023-03-01|  3.1|\n",
      "|  300|400.0|string_test_3|2023-03-01|  7.8|\n",
      "|  300|400.0|string_test_3|2023-03-01|  4.9|\n",
      "|  200|300.0|string_test_2|2023-02-01|  6.8|\n",
      "|  200|300.0|string_test_2|2023-02-01|  1.7|\n",
      "|  400|400.0|         NULL|      NULL|  8.8|\n",
      "|  500|500.0|         NULL|2023-02-01| NULL|\n",
      "+-----+-----+-------------+----------+-----+\n",
      "\n"
     ]
    }
   ],
   "source": [
    "data_df.show()"
   ]
  },
  {
   "cell_type": "code",
   "execution_count": 6,
   "metadata": {
    "application/vnd.databricks.v1+cell": {
     "cellMetadata": {
      "byteLimit": 2048000,
      "rowLimit": 10000
     },
     "inputWidgets": {},
     "nuid": "465e9144-4bf7-472d-bb62-35dad761c240",
     "showTitle": true,
     "title": "Viewing top n rows"
    },
    "colab": {
     "base_uri": "https://localhost:8080/"
    },
    "executionInfo": {
     "elapsed": 1018,
     "status": "ok",
     "timestamp": 1730637549739,
     "user": {
      "displayName": "TAN SWEE NEO KATHLEEN",
      "userId": "08125048316560176091"
     },
     "user_tz": -480
    },
    "id": "R5fpOHmTBAH8",
    "outputId": "723ffdf0-0a5d-45e1-ec79-d99dcc213df6"
   },
   "outputs": [
    {
     "name": "stdout",
     "output_type": "stream",
     "text": [
      "+-----+-----+-------------+----------+-----+\n",
      "|col_1|col_2|        col_3|     col_4|col_5|\n",
      "+-----+-----+-------------+----------+-----+\n",
      "|  100|200.0|string_test_1|2023-01-01|  5.5|\n",
      "|  100|200.0|string_test_1|2023-01-01| 10.2|\n",
      "+-----+-----+-------------+----------+-----+\n",
      "only showing top 2 rows\n",
      "\n"
     ]
    }
   ],
   "source": [
    "data_df.show(2)"
   ]
  },
  {
   "cell_type": "code",
   "execution_count": 7,
   "metadata": {
    "application/vnd.databricks.v1+cell": {
     "cellMetadata": {
      "byteLimit": 2048000,
      "rowLimit": 10000
     },
     "inputWidgets": {},
     "nuid": "3882bfa7-6fa4-4a7c-b039-d919edc5fb07",
     "showTitle": true,
     "title": "Viewing DataFrame schema"
    },
    "colab": {
     "base_uri": "https://localhost:8080/"
    },
    "executionInfo": {
     "elapsed": 608,
     "status": "ok",
     "timestamp": 1730637554855,
     "user": {
      "displayName": "TAN SWEE NEO KATHLEEN",
      "userId": "08125048316560176091"
     },
     "user_tz": -480
    },
    "id": "L7BoYrA3BAH8",
    "outputId": "1677d6a9-d388-4701-ea49-2d048e6a0cae"
   },
   "outputs": [
    {
     "name": "stdout",
     "output_type": "stream",
     "text": [
      "root\n",
      " |-- col_1: long (nullable = true)\n",
      " |-- col_2: double (nullable = true)\n",
      " |-- col_3: string (nullable = true)\n",
      " |-- col_4: date (nullable = true)\n",
      " |-- col_5: double (nullable = true)\n",
      "\n"
     ]
    }
   ],
   "source": [
    "data_df.printSchema()"
   ]
  },
  {
   "cell_type": "code",
   "execution_count": 8,
   "metadata": {
    "application/vnd.databricks.v1+cell": {
     "cellMetadata": {
      "byteLimit": 2048000,
      "rowLimit": 10000
     },
     "inputWidgets": {},
     "nuid": "49b81183-36c8-4862-b2fb-4778ceb6d16c",
     "showTitle": true,
     "title": "Viewing data vertically"
    },
    "colab": {
     "base_uri": "https://localhost:8080/"
    },
    "executionInfo": {
     "elapsed": 1694,
     "status": "ok",
     "timestamp": 1730637560624,
     "user": {
      "displayName": "TAN SWEE NEO KATHLEEN",
      "userId": "08125048316560176091"
     },
     "user_tz": -480
    },
    "id": "VpdpoFvrBAH9",
    "outputId": "a1de33d4-6d21-48ee-90b8-f5210b86a7ac"
   },
   "outputs": [
    {
     "name": "stdout",
     "output_type": "stream",
     "text": [
      "-RECORD 0--------------\n",
      " col_1 | 100           \n",
      " col_2 | 200.0         \n",
      " col_3 | string_test_1 \n",
      " col_4 | 2023-01-01    \n",
      " col_5 | 5.5           \n",
      "only showing top 1 row\n",
      "\n"
     ]
    }
   ],
   "source": [
    "data_df.show(1, vertical=True)"
   ]
  },
  {
   "cell_type": "code",
   "execution_count": 9,
   "metadata": {
    "application/vnd.databricks.v1+cell": {
     "cellMetadata": {
      "byteLimit": 2048000,
      "rowLimit": 10000
     },
     "inputWidgets": {},
     "nuid": "18974b22-4fae-4787-aacb-67eb458c20a2",
     "showTitle": true,
     "title": "Viewing columns of data "
    },
    "colab": {
     "base_uri": "https://localhost:8080/"
    },
    "executionInfo": {
     "elapsed": 711,
     "status": "ok",
     "timestamp": 1730637595881,
     "user": {
      "displayName": "TAN SWEE NEO KATHLEEN",
      "userId": "08125048316560176091"
     },
     "user_tz": -480
    },
    "id": "Axl8O75yBAH9",
    "outputId": "5b6eda86-5b4c-4650-e113-bf53a077831c"
   },
   "outputs": [
    {
     "data": {
      "text/plain": [
       "['col_1', 'col_2', 'col_3', 'col_4', 'col_5']"
      ]
     },
     "execution_count": 9,
     "metadata": {},
     "output_type": "execute_result"
    }
   ],
   "source": [
    "data_df.columns"
   ]
  },
  {
   "cell_type": "code",
   "execution_count": 10,
   "metadata": {},
   "outputs": [
    {
     "name": "stderr",
     "output_type": "stream",
     "text": [
      "25/06/12 14:17:01 WARN SparkStringUtils: Truncated the string representation of a plan since it was too large. This behavior can be adjusted by setting 'spark.sql.debug.maxToStringFields'.\n"
     ]
    },
    {
     "name": "stdout",
     "output_type": "stream",
     "text": [
      "+-------+------------------+----------------+-------------+-----------------+\n",
      "|summary|             col_1|           col_2|        col_3|            col_5|\n",
      "+-------+------------------+----------------+-------------+-----------------+\n",
      "|  count|                10|              10|            8|                8|\n",
      "|   mean|             240.0|           340.0|         NULL|              6.1|\n",
      "| stddev|134.98971154211057|96.6091783079296|         NULL|2.869544513382867|\n",
      "|    min|               100|           200.0|string_test_1|              1.7|\n",
      "|    max|               500|           500.0|string_test_3|             10.2|\n",
      "+-------+------------------+----------------+-------------+-----------------+\n",
      "\n"
     ]
    }
   ],
   "source": [
    "data_df.describe().show()"
   ]
  },
  {
   "cell_type": "code",
   "execution_count": 11,
   "metadata": {
    "application/vnd.databricks.v1+cell": {
     "cellMetadata": {
      "byteLimit": 2048000,
      "rowLimit": 10000
     },
     "inputWidgets": {},
     "nuid": "f607973a-991a-4892-ada8-a6f8e2daf5d1",
     "showTitle": true,
     "title": "Counting number of rows of data"
    },
    "colab": {
     "base_uri": "https://localhost:8080/"
    },
    "executionInfo": {
     "elapsed": 1903,
     "status": "ok",
     "timestamp": 1730637599690,
     "user": {
      "displayName": "TAN SWEE NEO KATHLEEN",
      "userId": "08125048316560176091"
     },
     "user_tz": -480
    },
    "id": "fKblWAoqBAH9",
    "outputId": "5e3aa0be-26e4-4062-f073-89369d18e445"
   },
   "outputs": [
    {
     "data": {
      "text/plain": [
       "10"
      ]
     },
     "execution_count": 11,
     "metadata": {},
     "output_type": "execute_result"
    }
   ],
   "source": [
    "data_df.count()"
   ]
  },
  {
   "cell_type": "code",
   "execution_count": 12,
   "metadata": {},
   "outputs": [
    {
     "data": {
      "text/plain": [
       "10"
      ]
     },
     "execution_count": 12,
     "metadata": {},
     "output_type": "execute_result"
    }
   ],
   "source": [
    "data_df.distinct().count()"
   ]
  },
  {
   "cell_type": "code",
   "execution_count": 13,
   "metadata": {
    "application/vnd.databricks.v1+cell": {
     "cellMetadata": {
      "byteLimit": 2048000,
      "rowLimit": 10000
     },
     "inputWidgets": {},
     "nuid": "3513085f-5679-4735-9085-7e7b3de398b4",
     "showTitle": true,
     "title": "Viewing summary statistics "
    },
    "colab": {
     "base_uri": "https://localhost:8080/"
    },
    "executionInfo": {
     "elapsed": 3796,
     "status": "ok",
     "timestamp": 1730637607326,
     "user": {
      "displayName": "TAN SWEE NEO KATHLEEN",
      "userId": "08125048316560176091"
     },
     "user_tz": -480
    },
    "id": "z6pBOT9hBAH9",
    "outputId": "d01c5e21-fd67-4137-d4e0-673a58182205"
   },
   "outputs": [
    {
     "name": "stdout",
     "output_type": "stream",
     "text": [
      "+-------+------------------+----------------+-------------+\n",
      "|summary|             col_1|           col_2|        col_3|\n",
      "+-------+------------------+----------------+-------------+\n",
      "|  count|                10|              10|            8|\n",
      "|   mean|             240.0|           340.0|         NULL|\n",
      "| stddev|134.98971154211057|96.6091783079296|         NULL|\n",
      "|    min|               100|           200.0|string_test_1|\n",
      "|    max|               500|           500.0|string_test_3|\n",
      "+-------+------------------+----------------+-------------+\n",
      "\n"
     ]
    }
   ],
   "source": [
    "data_df.select('col_1', 'col_2', 'col_3').describe().show()"
   ]
  },
  {
   "cell_type": "code",
   "execution_count": 14,
   "metadata": {
    "application/vnd.databricks.v1+cell": {
     "cellMetadata": {
      "byteLimit": 2048000,
      "rowLimit": 10000
     },
     "inputWidgets": {},
     "nuid": "d1a9456e-7fc7-4b73-bdfe-b3bd45f01f68",
     "showTitle": true,
     "title": "Using take"
    },
    "colab": {
     "base_uri": "https://localhost:8080/"
    },
    "executionInfo": {
     "elapsed": 859,
     "status": "ok",
     "timestamp": 1730637617249,
     "user": {
      "displayName": "TAN SWEE NEO KATHLEEN",
      "userId": "08125048316560176091"
     },
     "user_tz": -480
    },
    "id": "VVJH5vpeBAH-",
    "outputId": "dd722b2c-af95-4f63-dc5f-910423b5cf1f"
   },
   "outputs": [
    {
     "data": {
      "text/plain": [
       "[Row(col_1=100, col_2=200.0, col_3='string_test_1', col_4=datetime.date(2023, 1, 1), col_5=5.5)]"
      ]
     },
     "execution_count": 14,
     "metadata": {},
     "output_type": "execute_result"
    }
   ],
   "source": [
    "data_df.take(1)"
   ]
  },
  {
   "cell_type": "code",
   "execution_count": 15,
   "metadata": {
    "application/vnd.databricks.v1+cell": {
     "cellMetadata": {
      "byteLimit": 2048000,
      "rowLimit": 10000
     },
     "inputWidgets": {},
     "nuid": "5f5c4426-d270-40be-9088-c74d727af5b1",
     "showTitle": true,
     "title": "Using tail"
    },
    "colab": {
     "base_uri": "https://localhost:8080/"
    },
    "executionInfo": {
     "elapsed": 510,
     "status": "ok",
     "timestamp": 1730637620121,
     "user": {
      "displayName": "TAN SWEE NEO KATHLEEN",
      "userId": "08125048316560176091"
     },
     "user_tz": -480
    },
    "id": "PeU5dKh-BAH-",
    "outputId": "c931a0f9-6984-4c88-aac6-059e0317176d"
   },
   "outputs": [
    {
     "data": {
      "text/plain": [
       "[Row(col_1=500, col_2=500.0, col_3=None, col_4=datetime.date(2023, 2, 1), col_5=None)]"
      ]
     },
     "execution_count": 15,
     "metadata": {},
     "output_type": "execute_result"
    }
   ],
   "source": [
    "data_df.tail(1)"
   ]
  },
  {
   "cell_type": "code",
   "execution_count": 16,
   "metadata": {
    "application/vnd.databricks.v1+cell": {
     "cellMetadata": {
      "byteLimit": 2048000,
      "rowLimit": 10000
     },
     "inputWidgets": {},
     "nuid": "fbdd9347-da63-4575-ac6d-b55b593044ff",
     "showTitle": true,
     "title": "Using head"
    },
    "colab": {
     "base_uri": "https://localhost:8080/"
    },
    "executionInfo": {
     "elapsed": 482,
     "status": "ok",
     "timestamp": 1730637623801,
     "user": {
      "displayName": "TAN SWEE NEO KATHLEEN",
      "userId": "08125048316560176091"
     },
     "user_tz": -480
    },
    "id": "LLhFNXADBAH-",
    "outputId": "d6523b5c-5249-43cc-d9c1-0ee54702b91d"
   },
   "outputs": [
    {
     "data": {
      "text/plain": [
       "[Row(col_1=100, col_2=200.0, col_3='string_test_1', col_4=datetime.date(2023, 1, 1), col_5=5.5)]"
      ]
     },
     "execution_count": 16,
     "metadata": {},
     "output_type": "execute_result"
    }
   ],
   "source": [
    "data_df.head(1)"
   ]
  },
  {
   "cell_type": "markdown",
   "metadata": {
    "application/vnd.databricks.v1+cell": {
     "cellMetadata": {},
     "inputWidgets": {},
     "nuid": "f0502651-b54a-45e6-84ae-62ea7e1600ad",
     "showTitle": false,
     "title": ""
    },
    "id": "p8HiEKFcBAH-"
   },
   "source": [
    "# 3. Manipulating Spark DataFrames"
   ]
  },
  {
   "cell_type": "markdown",
   "metadata": {},
   "source": [
    "## 3.1 select(), withColumn(), withColumnRenamed()"
   ]
  },
  {
   "cell_type": "code",
   "execution_count": 17,
   "metadata": {
    "application/vnd.databricks.v1+cell": {
     "cellMetadata": {
      "byteLimit": 2048000,
      "rowLimit": 10000
     },
     "inputWidgets": {},
     "nuid": "e4f34241-a0de-47d4-89d0-5596681206c5",
     "showTitle": true,
     "title": "Selecting Columns"
    },
    "colab": {
     "base_uri": "https://localhost:8080/"
    },
    "executionInfo": {
     "elapsed": 1296,
     "status": "ok",
     "timestamp": 1730637648805,
     "user": {
      "displayName": "TAN SWEE NEO KATHLEEN",
      "userId": "08125048316560176091"
     },
     "user_tz": -480
    },
    "id": "-zLaLTBRBAH_",
    "outputId": "6bf68ffb-9091-491d-c1cf-c86a7ac92bd0"
   },
   "outputs": [
    {
     "name": "stdout",
     "output_type": "stream",
     "text": [
      "+-------------+\n",
      "|        col_3|\n",
      "+-------------+\n",
      "|string_test_1|\n",
      "|string_test_1|\n",
      "|string_test_2|\n",
      "|string_test_3|\n",
      "|string_test_3|\n",
      "|string_test_3|\n",
      "|string_test_2|\n",
      "|string_test_2|\n",
      "|         NULL|\n",
      "|         NULL|\n",
      "+-------------+\n",
      "\n"
     ]
    }
   ],
   "source": [
    "from pyspark.sql import Column\n",
    "\n",
    "data_df.select(data_df.col_3).show()"
   ]
  },
  {
   "cell_type": "code",
   "execution_count": 18,
   "metadata": {
    "application/vnd.databricks.v1+cell": {
     "cellMetadata": {
      "byteLimit": 2048000,
      "rowLimit": 10000
     },
     "inputWidgets": {},
     "nuid": "47fd50e6-1433-4add-ae2f-1ddcfb1a0e7c",
     "showTitle": true,
     "title": "Creating Columns"
    },
    "colab": {
     "base_uri": "https://localhost:8080/"
    },
    "executionInfo": {
     "elapsed": 692,
     "status": "ok",
     "timestamp": 1730637652638,
     "user": {
      "displayName": "TAN SWEE NEO KATHLEEN",
      "userId": "08125048316560176091"
     },
     "user_tz": -480
    },
    "id": "EiIIBNPHBAH_",
    "outputId": "6fba04ff-104f-4b19-d23e-30f2867bdc54"
   },
   "outputs": [
    {
     "name": "stdout",
     "output_type": "stream",
     "text": [
      "+-----+-----+-------------+----------+-----+-----+\n",
      "|col_1|col_2|        col_3|     col_4|col_5|col_6|\n",
      "+-----+-----+-------------+----------+-----+-----+\n",
      "|  100|200.0|string_test_1|2023-01-01|  5.5|    A|\n",
      "|  100|200.0|string_test_1|2023-01-01| 10.2|    A|\n",
      "|  200|300.0|string_test_2|2023-02-01| NULL|    A|\n",
      "|  100|400.0|string_test_3|2023-03-01|  3.1|    A|\n",
      "|  300|400.0|string_test_3|2023-03-01|  7.8|    A|\n",
      "|  300|400.0|string_test_3|2023-03-01|  4.9|    A|\n",
      "|  200|300.0|string_test_2|2023-02-01|  6.8|    A|\n",
      "|  200|300.0|string_test_2|2023-02-01|  1.7|    A|\n",
      "|  400|400.0|         NULL|      NULL|  8.8|    A|\n",
      "|  500|500.0|         NULL|2023-02-01| NULL|    A|\n",
      "+-----+-----+-------------+----------+-----+-----+\n",
      "\n"
     ]
    }
   ],
   "source": [
    "from pyspark.sql import functions as F\n",
    "data_df = data_df.withColumn(\"col_6\", F.lit(\"A\"))\n",
    "data_df.show()"
   ]
  },
  {
   "cell_type": "code",
   "execution_count": 19,
   "metadata": {
    "application/vnd.databricks.v1+cell": {
     "cellMetadata": {
      "byteLimit": 2048000,
      "rowLimit": 10000
     },
     "inputWidgets": {},
     "nuid": "fb759316-d4e6-43b0-8ced-d073f1a20f97",
     "showTitle": true,
     "title": "Updating Columns"
    },
    "colab": {
     "base_uri": "https://localhost:8080/"
    },
    "executionInfo": {
     "elapsed": 1247,
     "status": "ok",
     "timestamp": 1730637661361,
     "user": {
      "displayName": "TAN SWEE NEO KATHLEEN",
      "userId": "08125048316560176091"
     },
     "user_tz": -480
    },
    "id": "bNd8lS87BAH_",
    "outputId": "7eb5a7c2-ed0e-48f0-aeb4-b7401b83fe4d"
   },
   "outputs": [
    {
     "name": "stdout",
     "output_type": "stream",
     "text": [
      "+-----+-----+-------------+----------+-----+-----+\n",
      "|col_1|col_2|        col_3|     col_4|col_5|col_6|\n",
      "+-----+-----+-------------+----------+-----+-----+\n",
      "|  100|  2.0|string_test_1|2023-01-01|  5.5|    A|\n",
      "|  100|  2.0|string_test_1|2023-01-01| 10.2|    A|\n",
      "|  200|  3.0|string_test_2|2023-02-01| NULL|    A|\n",
      "|  100|  4.0|string_test_3|2023-03-01|  3.1|    A|\n",
      "|  300|  4.0|string_test_3|2023-03-01|  7.8|    A|\n",
      "|  300|  4.0|string_test_3|2023-03-01|  4.9|    A|\n",
      "|  200|  3.0|string_test_2|2023-02-01|  6.8|    A|\n",
      "|  200|  3.0|string_test_2|2023-02-01|  1.7|    A|\n",
      "|  400|  4.0|         NULL|      NULL|  8.8|    A|\n",
      "|  500|  5.0|         NULL|2023-02-01| NULL|    A|\n",
      "+-----+-----+-------------+----------+-----+-----+\n",
      "\n"
     ]
    }
   ],
   "source": [
    "data_df.withColumn(\"col_2\", F.col(\"col_2\") / 100).show()"
   ]
  },
  {
   "cell_type": "code",
   "execution_count": 20,
   "metadata": {
    "application/vnd.databricks.v1+cell": {
     "cellMetadata": {
      "byteLimit": 2048000,
      "rowLimit": 10000
     },
     "inputWidgets": {},
     "nuid": "2cc409f3-6407-48a1-a5c9-21f08062a7f3",
     "showTitle": true,
     "title": "Renaming Columns"
    },
    "colab": {
     "base_uri": "https://localhost:8080/"
    },
    "executionInfo": {
     "elapsed": 981,
     "status": "ok",
     "timestamp": 1730637666051,
     "user": {
      "displayName": "TAN SWEE NEO KATHLEEN",
      "userId": "08125048316560176091"
     },
     "user_tz": -480
    },
    "id": "pvXMBiw5BAH_",
    "outputId": "839cdd2b-8c0a-4320-f966-4ae6f421efa9"
   },
   "outputs": [
    {
     "name": "stdout",
     "output_type": "stream",
     "text": [
      "+-----+-----+-------------+----------+-----+-----+\n",
      "|col_1|col_2|   string_col|     col_4|col_5|col_6|\n",
      "+-----+-----+-------------+----------+-----+-----+\n",
      "|  100|200.0|string_test_1|2023-01-01|  5.5|    A|\n",
      "|  100|200.0|string_test_1|2023-01-01| 10.2|    A|\n",
      "|  200|300.0|string_test_2|2023-02-01| NULL|    A|\n",
      "|  100|400.0|string_test_3|2023-03-01|  3.1|    A|\n",
      "|  300|400.0|string_test_3|2023-03-01|  7.8|    A|\n",
      "|  300|400.0|string_test_3|2023-03-01|  4.9|    A|\n",
      "|  200|300.0|string_test_2|2023-02-01|  6.8|    A|\n",
      "|  200|300.0|string_test_2|2023-02-01|  1.7|    A|\n",
      "|  400|400.0|         NULL|      NULL|  8.8|    A|\n",
      "|  500|500.0|         NULL|2023-02-01| NULL|    A|\n",
      "+-----+-----+-------------+----------+-----+-----+\n",
      "\n"
     ]
    }
   ],
   "source": [
    "data_df = data_df.withColumnRenamed(\"col_3\", \"string_col\")\n",
    "data_df.show()"
   ]
  },
  {
   "cell_type": "code",
   "execution_count": 21,
   "metadata": {
    "application/vnd.databricks.v1+cell": {
     "cellMetadata": {
      "byteLimit": 2048000,
      "rowLimit": 10000
     },
     "inputWidgets": {},
     "nuid": "fd1755b4-eec5-44f5-b8d3-946cb0359432",
     "showTitle": true,
     "title": "Finding Unique Values in a Column"
    },
    "colab": {
     "base_uri": "https://localhost:8080/"
    },
    "executionInfo": {
     "elapsed": 1311,
     "status": "ok",
     "timestamp": 1730637670635,
     "user": {
      "displayName": "TAN SWEE NEO KATHLEEN",
      "userId": "08125048316560176091"
     },
     "user_tz": -480
    },
    "id": "aNO4yEBKBAH_",
    "outputId": "de9e2565-7470-4ff4-ee60-90bfa81e1ee8"
   },
   "outputs": [
    {
     "name": "stdout",
     "output_type": "stream",
     "text": [
      "+-----+\n",
      "|col_6|\n",
      "+-----+\n",
      "|    A|\n",
      "+-----+\n",
      "\n"
     ]
    }
   ],
   "source": [
    "data_df.select(\"col_6\").distinct().show()"
   ]
  },
  {
   "cell_type": "code",
   "execution_count": 22,
   "metadata": {
    "application/vnd.databricks.v1+cell": {
     "cellMetadata": {
      "byteLimit": 2048000,
      "rowLimit": 10000
     },
     "inputWidgets": {},
     "nuid": "beddedbc-ced1-477d-b8bd-30a102ef10dd",
     "showTitle": false,
     "title": ""
    },
    "colab": {
     "base_uri": "https://localhost:8080/"
    },
    "executionInfo": {
     "elapsed": 1490,
     "status": "ok",
     "timestamp": 1730637676315,
     "user": {
      "displayName": "TAN SWEE NEO KATHLEEN",
      "userId": "08125048316560176091"
     },
     "user_tz": -480
    },
    "id": "byCrDi2XBAH_",
    "outputId": "f8adeafa-535d-4be2-e0f3-511524afa466"
   },
   "outputs": [
    {
     "name": "stdout",
     "output_type": "stream",
     "text": [
      "+------------+\n",
      "|Total_Unique|\n",
      "+------------+\n",
      "|           1|\n",
      "+------------+\n",
      "\n"
     ]
    }
   ],
   "source": [
    "data_df.select(F.countDistinct(\"col_6\").alias(\"Total_Unique\")).show()"
   ]
  },
  {
   "cell_type": "markdown",
   "metadata": {},
   "source": [
    "## 3.2 filter()"
   ]
  },
  {
   "cell_type": "code",
   "execution_count": 23,
   "metadata": {
    "application/vnd.databricks.v1+cell": {
     "cellMetadata": {
      "byteLimit": 2048000,
      "rowLimit": 10000
     },
     "inputWidgets": {},
     "nuid": "c7b3e23f-84f5-41de-a09d-a7a20e9404b5",
     "showTitle": true,
     "title": "Filtering a Dataframe"
    },
    "colab": {
     "base_uri": "https://localhost:8080/"
    },
    "executionInfo": {
     "elapsed": 504,
     "status": "ok",
     "timestamp": 1730637683270,
     "user": {
      "displayName": "TAN SWEE NEO KATHLEEN",
      "userId": "08125048316560176091"
     },
     "user_tz": -480
    },
    "id": "XNVEvjBzBAIA",
    "outputId": "a05394cc-4e15-4b07-f1b4-8e84b47fccb9"
   },
   "outputs": [
    {
     "name": "stdout",
     "output_type": "stream",
     "text": [
      "+-----+-----+-------------+----------+-----+-----+\n",
      "|col_1|col_2|   string_col|     col_4|col_5|col_6|\n",
      "+-----+-----+-------------+----------+-----+-----+\n",
      "|  100|200.0|string_test_1|2023-01-01|  5.5|    A|\n",
      "|  100|200.0|string_test_1|2023-01-01| 10.2|    A|\n",
      "|  100|400.0|string_test_3|2023-03-01|  3.1|    A|\n",
      "+-----+-----+-------------+----------+-----+-----+\n",
      "\n"
     ]
    }
   ],
   "source": [
    "data_df.filter(data_df.col_1 == 100).show()"
   ]
  },
  {
   "cell_type": "code",
   "execution_count": 24,
   "metadata": {
    "application/vnd.databricks.v1+cell": {
     "cellMetadata": {
      "byteLimit": 2048000,
      "rowLimit": 10000
     },
     "inputWidgets": {},
     "nuid": "889da414-a8e1-4014-ab7f-5e1f10d362fa",
     "showTitle": true,
     "title": "Logical Operators in a Dataframe"
    },
    "colab": {
     "base_uri": "https://localhost:8080/"
    },
    "executionInfo": {
     "elapsed": 1322,
     "status": "ok",
     "timestamp": 1730637692474,
     "user": {
      "displayName": "TAN SWEE NEO KATHLEEN",
      "userId": "08125048316560176091"
     },
     "user_tz": -480
    },
    "id": "pQdzLPaeBAIA",
    "outputId": "f1ef83fc-a906-4c45-b7ad-e22a23bec841"
   },
   "outputs": [
    {
     "name": "stdout",
     "output_type": "stream",
     "text": [
      "+-----+-----+-------------+----------+-----+-----+\n",
      "|col_1|col_2|   string_col|     col_4|col_5|col_6|\n",
      "+-----+-----+-------------+----------+-----+-----+\n",
      "|  100|200.0|string_test_1|2023-01-01|  5.5|    A|\n",
      "|  100|200.0|string_test_1|2023-01-01| 10.2|    A|\n",
      "|  100|400.0|string_test_3|2023-03-01|  3.1|    A|\n",
      "+-----+-----+-------------+----------+-----+-----+\n",
      "\n"
     ]
    }
   ],
   "source": [
    "data_df.filter((data_df.col_1 == 100) & (data_df.col_6 == 'A')).show()\n"
   ]
  },
  {
   "cell_type": "code",
   "execution_count": 25,
   "metadata": {
    "application/vnd.databricks.v1+cell": {
     "cellMetadata": {
      "byteLimit": 2048000,
      "rowLimit": 10000
     },
     "inputWidgets": {},
     "nuid": "582e12c8-1081-4a3f-a539-8fbf1080e316",
     "showTitle": false,
     "title": ""
    },
    "colab": {
     "base_uri": "https://localhost:8080/"
    },
    "executionInfo": {
     "elapsed": 1278,
     "status": "ok",
     "timestamp": 1730637697005,
     "user": {
      "displayName": "TAN SWEE NEO KATHLEEN",
      "userId": "08125048316560176091"
     },
     "user_tz": -480
    },
    "id": "6RxL1Lc0BAIA",
    "outputId": "f0238f05-08f5-44fb-ffac-c6461b59752b"
   },
   "outputs": [
    {
     "name": "stdout",
     "output_type": "stream",
     "text": [
      "+-----+-----+-------------+----------+-----+-----+\n",
      "|col_1|col_2|   string_col|     col_4|col_5|col_6|\n",
      "+-----+-----+-------------+----------+-----+-----+\n",
      "|  100|200.0|string_test_1|2023-01-01|  5.5|    A|\n",
      "|  100|200.0|string_test_1|2023-01-01| 10.2|    A|\n",
      "|  200|300.0|string_test_2|2023-02-01| NULL|    A|\n",
      "|  100|400.0|string_test_3|2023-03-01|  3.1|    A|\n",
      "|  200|300.0|string_test_2|2023-02-01|  6.8|    A|\n",
      "|  200|300.0|string_test_2|2023-02-01|  1.7|    A|\n",
      "+-----+-----+-------------+----------+-----+-----+\n",
      "\n"
     ]
    }
   ],
   "source": [
    "data_df.filter((data_df.col_1 == 100) | (data_df.col_2 == 300.00)).show()"
   ]
  },
  {
   "cell_type": "code",
   "execution_count": 26,
   "metadata": {
    "application/vnd.databricks.v1+cell": {
     "cellMetadata": {
      "byteLimit": 2048000,
      "rowLimit": 10000
     },
     "inputWidgets": {},
     "nuid": "ef3afdd9-e883-40cc-bd79-cc9fcff57a7e",
     "showTitle": true,
     "title": "Using Isin()"
    },
    "colab": {
     "base_uri": "https://localhost:8080/"
    },
    "executionInfo": {
     "elapsed": 1769,
     "status": "ok",
     "timestamp": 1730637706062,
     "user": {
      "displayName": "TAN SWEE NEO KATHLEEN",
      "userId": "08125048316560176091"
     },
     "user_tz": -480
    },
    "id": "eut1BACKBAIA",
    "outputId": "4832468a-b423-4310-beef-29e774e77883"
   },
   "outputs": [
    {
     "name": "stdout",
     "output_type": "stream",
     "text": [
      "+-----+-----+-------------+----------+-----+-----+\n",
      "|col_1|col_2|   string_col|     col_4|col_5|col_6|\n",
      "+-----+-----+-------------+----------+-----+-----+\n",
      "|  100|200.0|string_test_1|2023-01-01|  5.5|    A|\n",
      "|  100|200.0|string_test_1|2023-01-01| 10.2|    A|\n",
      "|  200|300.0|string_test_2|2023-02-01| NULL|    A|\n",
      "|  100|400.0|string_test_3|2023-03-01|  3.1|    A|\n",
      "|  200|300.0|string_test_2|2023-02-01|  6.8|    A|\n",
      "|  200|300.0|string_test_2|2023-02-01|  1.7|    A|\n",
      "+-----+-----+-------------+----------+-----+-----+\n",
      "\n"
     ]
    }
   ],
   "source": [
    "list = [100, 200]\n",
    "data_df.filter(data_df.col_1.isin(list)).show()"
   ]
  },
  {
   "cell_type": "markdown",
   "metadata": {},
   "source": [
    "## 3.3 Casting columns to specific data types"
   ]
  },
  {
   "cell_type": "code",
   "execution_count": 27,
   "metadata": {
    "application/vnd.databricks.v1+cell": {
     "cellMetadata": {
      "byteLimit": 2048000,
      "rowLimit": 10000
     },
     "inputWidgets": {},
     "nuid": "fb4e727a-c8b3-4010-bbde-2224b82aab79",
     "showTitle": true,
     "title": "Datatype conversions"
    },
    "colab": {
     "base_uri": "https://localhost:8080/"
    },
    "executionInfo": {
     "elapsed": 998,
     "status": "ok",
     "timestamp": 1730637712841,
     "user": {
      "displayName": "TAN SWEE NEO KATHLEEN",
      "userId": "08125048316560176091"
     },
     "user_tz": -480
    },
    "id": "Jerb2sRYBAIA",
    "outputId": "071feea0-8f02-4869-aab0-b13dba6f063b"
   },
   "outputs": [
    {
     "name": "stdout",
     "output_type": "stream",
     "text": [
      "root\n",
      " |-- col_1: integer (nullable = true)\n",
      " |-- col_2: double (nullable = true)\n",
      " |-- string_col: string (nullable = true)\n",
      " |-- col_4: string (nullable = true)\n",
      " |-- col_5: double (nullable = true)\n",
      " |-- col_6: string (nullable = false)\n",
      "\n",
      "+-----+-----+-------------+----------+-----+-----+\n",
      "|col_1|col_2|   string_col|     col_4|col_5|col_6|\n",
      "+-----+-----+-------------+----------+-----+-----+\n",
      "|  100|200.0|string_test_1|2023-01-01|  5.5|    A|\n",
      "|  100|200.0|string_test_1|2023-01-01| 10.2|    A|\n",
      "|  200|300.0|string_test_2|2023-02-01| NULL|    A|\n",
      "|  100|400.0|string_test_3|2023-03-01|  3.1|    A|\n",
      "|  300|400.0|string_test_3|2023-03-01|  7.8|    A|\n",
      "|  300|400.0|string_test_3|2023-03-01|  4.9|    A|\n",
      "|  200|300.0|string_test_2|2023-02-01|  6.8|    A|\n",
      "|  200|300.0|string_test_2|2023-02-01|  1.7|    A|\n",
      "|  400|400.0|         NULL|      NULL|  8.8|    A|\n",
      "|  500|500.0|         NULL|2023-02-01| NULL|    A|\n",
      "+-----+-----+-------------+----------+-----+-----+\n",
      "\n"
     ]
    }
   ],
   "source": [
    "from pyspark.sql.functions import col\n",
    "from pyspark.sql.types import StringType,BooleanType,DateType,IntegerType\n",
    "\n",
    "data_df2 = data_df.withColumn(\"col_4\",col(\"col_4\").cast(StringType())) \\\n",
    "    .withColumn(\"col_1\",col(\"col_1\").cast(IntegerType()))\n",
    "data_df2.printSchema()\n",
    "data_df2.show()"
   ]
  },
  {
   "cell_type": "code",
   "execution_count": 28,
   "metadata": {
    "application/vnd.databricks.v1+cell": {
     "cellMetadata": {
      "byteLimit": 2048000,
      "rowLimit": 10000
     },
     "inputWidgets": {},
     "nuid": "908430a1-d7f1-4372-aebc-ef371f1efc96",
     "showTitle": false,
     "title": ""
    },
    "colab": {
     "base_uri": "https://localhost:8080/"
    },
    "executionInfo": {
     "elapsed": 499,
     "status": "ok",
     "timestamp": 1730637720306,
     "user": {
      "displayName": "TAN SWEE NEO KATHLEEN",
      "userId": "08125048316560176091"
     },
     "user_tz": -480
    },
    "id": "7xdyfQARBAIB",
    "outputId": "406494d2-d8dc-45eb-a0e0-36fb43d78a63"
   },
   "outputs": [
    {
     "name": "stdout",
     "output_type": "stream",
     "text": [
      "root\n",
      " |-- col_4: date (nullable = true)\n",
      " |-- col_1: long (nullable = true)\n",
      "\n"
     ]
    }
   ],
   "source": [
    "data_df3 = data_df2.selectExpr(\"cast(col_4 as date) col_4\",\n",
    "    \"cast(col_1 as long) col_1\")\n",
    "data_df3.printSchema()"
   ]
  },
  {
   "cell_type": "markdown",
   "metadata": {},
   "source": [
    "## 3.4 Data Cleaning"
   ]
  },
  {
   "cell_type": "code",
   "execution_count": 29,
   "metadata": {
    "application/vnd.databricks.v1+cell": {
     "cellMetadata": {
      "byteLimit": 2048000,
      "rowLimit": 10000
     },
     "inputWidgets": {},
     "nuid": "92dcefea-630b-4ecf-8649-705fbf78b93c",
     "showTitle": true,
     "title": "Dropping null values from a Dataframe"
    },
    "colab": {
     "base_uri": "https://localhost:8080/"
    },
    "executionInfo": {
     "elapsed": 968,
     "status": "ok",
     "timestamp": 1730637735235,
     "user": {
      "displayName": "TAN SWEE NEO KATHLEEN",
      "userId": "08125048316560176091"
     },
     "user_tz": -480
    },
    "id": "iIgLL2GaBAIB",
    "outputId": "8e138cb8-f9cc-4a07-ab68-8795744bcae1"
   },
   "outputs": [
    {
     "name": "stdout",
     "output_type": "stream",
     "text": [
      "+-----+-----+-------------+----------+-----+-----+\n",
      "|col_1|col_2|   string_col|     col_4|col_5|col_6|\n",
      "+-----+-----+-------------+----------+-----+-----+\n",
      "|  100|200.0|string_test_1|2023-01-01|  5.5|    A|\n",
      "|  100|200.0|string_test_1|2023-01-01| 10.2|    A|\n",
      "|  200|300.0|string_test_2|2023-02-01| NULL|    A|\n",
      "|  100|400.0|string_test_3|2023-03-01|  3.1|    A|\n",
      "|  300|400.0|string_test_3|2023-03-01|  7.8|    A|\n",
      "|  300|400.0|string_test_3|2023-03-01|  4.9|    A|\n",
      "|  200|300.0|string_test_2|2023-02-01|  6.8|    A|\n",
      "|  200|300.0|string_test_2|2023-02-01|  1.7|    A|\n",
      "|  400|400.0|         NULL|      NULL|  8.8|    A|\n",
      "|  500|500.0|         NULL|2023-02-01| NULL|    A|\n",
      "+-----+-----+-------------+----------+-----+-----+\n",
      "\n"
     ]
    }
   ],
   "source": [
    "data_df.show()"
   ]
  },
  {
   "cell_type": "code",
   "execution_count": 30,
   "metadata": {},
   "outputs": [
    {
     "name": "stdout",
     "output_type": "stream",
     "text": [
      "+-----+-----+-------------+----------+-----+-----+\n",
      "|col_1|col_2|   string_col|     col_4|col_5|col_6|\n",
      "+-----+-----+-------------+----------+-----+-----+\n",
      "|  100|200.0|string_test_1|2023-01-01|  5.5|    A|\n",
      "|  100|200.0|string_test_1|2023-01-01| 10.2|    A|\n",
      "|  200|300.0|string_test_2|2023-02-01| NULL|    A|\n",
      "|  100|400.0|string_test_3|2023-03-01|  3.1|    A|\n",
      "|  300|400.0|string_test_3|2023-03-01|  7.8|    A|\n",
      "|  300|400.0|string_test_3|2023-03-01|  4.9|    A|\n",
      "|  200|300.0|string_test_2|2023-02-01|  6.8|    A|\n",
      "|  200|300.0|string_test_2|2023-02-01|  1.7|    A|\n",
      "|  400|400.0|        EMPTY|      NULL|  8.8|    A|\n",
      "|  500|500.0|        EMPTY|2023-02-01| NULL|    A|\n",
      "+-----+-----+-------------+----------+-----+-----+\n",
      "\n"
     ]
    }
   ],
   "source": [
    "data_df.na.fill('EMPTY').show()"
   ]
  },
  {
   "cell_type": "code",
   "execution_count": 31,
   "metadata": {},
   "outputs": [
    {
     "data": {
      "text/plain": [
       "DataFrame[col_1: bigint, col_2: double, string_col: string, col_4: date, col_5: double, col_6: string]"
      ]
     },
     "execution_count": 31,
     "metadata": {},
     "output_type": "execute_result"
    }
   ],
   "source": [
    "data_df.na.replace('EMPTY', 'Blank')"
   ]
  },
  {
   "cell_type": "code",
   "execution_count": 32,
   "metadata": {},
   "outputs": [
    {
     "name": "stdout",
     "output_type": "stream",
     "text": [
      "+-----+-----+-------------+----------+-----+-----+\n",
      "|col_1|col_2|   string_col|     col_4|col_5|col_6|\n",
      "+-----+-----+-------------+----------+-----+-----+\n",
      "|  100|200.0|string_test_1|2023-01-01|  5.5|    A|\n",
      "|  100|200.0|string_test_1|2023-01-01| 10.2|    A|\n",
      "|  200|300.0|string_test_2|2023-02-01|  0.0|    A|\n",
      "|  100|400.0|string_test_3|2023-03-01|  3.1|    A|\n",
      "|  300|400.0|string_test_3|2023-03-01|  7.8|    A|\n",
      "|  300|400.0|string_test_3|2023-03-01|  4.9|    A|\n",
      "|  200|300.0|string_test_2|2023-02-01|  6.8|    A|\n",
      "|  200|300.0|string_test_2|2023-02-01|  1.7|    A|\n",
      "|  400|400.0|      unknown|      NULL|  8.8|    A|\n",
      "|  500|500.0|      unknown|2023-02-01|  0.0|    A|\n",
      "+-----+-----+-------------+----------+-----+-----+\n",
      "\n"
     ]
    }
   ],
   "source": [
    "data_df.fillna(({'string_col': 'unknown', 'col_5': 0.0})).show()"
   ]
  },
  {
   "cell_type": "code",
   "execution_count": 33,
   "metadata": {},
   "outputs": [
    {
     "name": "stdout",
     "output_type": "stream",
     "text": [
      "+-----+-----+-------------+----------+-----+\n",
      "|col_1|col_2|   string_col|     col_4|col_6|\n",
      "+-----+-----+-------------+----------+-----+\n",
      "|  100|200.0|string_test_1|2023-01-01|    A|\n",
      "|  100|200.0|string_test_1|2023-01-01|    A|\n",
      "|  200|300.0|string_test_2|2023-02-01|    A|\n",
      "|  100|400.0|string_test_3|2023-03-01|    A|\n",
      "|  300|400.0|string_test_3|2023-03-01|    A|\n",
      "|  300|400.0|string_test_3|2023-03-01|    A|\n",
      "|  200|300.0|string_test_2|2023-02-01|    A|\n",
      "|  200|300.0|string_test_2|2023-02-01|    A|\n",
      "|  400|400.0|         NULL|      NULL|    A|\n",
      "|  500|500.0|         NULL|2023-02-01|    A|\n",
      "+-----+-----+-------------+----------+-----+\n",
      "\n"
     ]
    }
   ],
   "source": [
    "data_df = data_df.drop(\"col_5\")\n",
    "data_df.show()"
   ]
  },
  {
   "cell_type": "code",
   "execution_count": 34,
   "metadata": {},
   "outputs": [
    {
     "name": "stdout",
     "output_type": "stream",
     "text": [
      "root\n",
      " |-- Employee: string (nullable = true)\n",
      " |-- Department: string (nullable = true)\n",
      " |-- Salary: long (nullable = true)\n",
      "\n",
      "+--------+----------+------+\n",
      "|Employee|Department|Salary|\n",
      "+--------+----------+------+\n",
      "|    John| Field-eng|  3500|\n",
      "| Michael| Field-eng|  4500|\n",
      "|  Robert|      NULL|  4000|\n",
      "|   Maria|   Finance|  3500|\n",
      "|    John|     Sales|  3000|\n",
      "|   Kelly|   Finance|  3500|\n",
      "|    Kate|   Finance|  3000|\n",
      "|  Martin|      NULL|  3500|\n",
      "|   Kiran|     Sales|  2200|\n",
      "| Michael| Field-eng|  4500|\n",
      "+--------+----------+------+\n",
      "\n"
     ]
    }
   ],
   "source": [
    "salary_data = [(\"John\", \"Field-eng\", 3500),\n",
    "    (\"Michael\", \"Field-eng\", 4500),\n",
    "    (\"Robert\", None, 4000),\n",
    "    (\"Maria\", \"Finance\", 3500),\n",
    "    (\"John\", \"Sales\", 3000),\n",
    "    (\"Kelly\", \"Finance\", 3500),\n",
    "    (\"Kate\", \"Finance\", 3000),\n",
    "    (\"Martin\", None, 3500),\n",
    "    (\"Kiran\", \"Sales\", 2200),\n",
    "    (\"Michael\", \"Field-eng\", 4500)\n",
    "  ]\n",
    "columns= [\"Employee\", \"Department\", \"Salary\"]\n",
    "salary_df = spark.createDataFrame(data=salary_data, schema=columns)\n",
    "salary_df.printSchema()\n",
    "salary_df.show()"
   ]
  },
  {
   "cell_type": "code",
   "execution_count": 35,
   "metadata": {
    "application/vnd.databricks.v1+cell": {
     "cellMetadata": {
      "byteLimit": 2048000,
      "rowLimit": 10000
     },
     "inputWidgets": {},
     "nuid": "5f7ded6f-cc9d-4bfe-8f63-afe560278772",
     "showTitle": false,
     "title": ""
    },
    "colab": {
     "base_uri": "https://localhost:8080/"
    },
    "executionInfo": {
     "elapsed": 976,
     "status": "ok",
     "timestamp": 1730637744007,
     "user": {
      "displayName": "TAN SWEE NEO KATHLEEN",
      "userId": "08125048316560176091"
     },
     "user_tz": -480
    },
    "id": "31vVSkKIBAIB",
    "outputId": "9b4f18b5-7e16-4122-a6da-1c7926d09aa8"
   },
   "outputs": [
    {
     "name": "stdout",
     "output_type": "stream",
     "text": [
      "+--------+----------+------+\n",
      "|Employee|Department|Salary|\n",
      "+--------+----------+------+\n",
      "|    John| Field-eng|  3500|\n",
      "| Michael| Field-eng|  4500|\n",
      "|   Maria|   Finance|  3500|\n",
      "|    John|     Sales|  3000|\n",
      "|   Kelly|   Finance|  3500|\n",
      "|    Kate|   Finance|  3000|\n",
      "|   Kiran|     Sales|  2200|\n",
      "| Michael| Field-eng|  4500|\n",
      "+--------+----------+------+\n",
      "\n"
     ]
    }
   ],
   "source": [
    "salary_df.dropna().show()"
   ]
  },
  {
   "cell_type": "code",
   "execution_count": 36,
   "metadata": {
    "application/vnd.databricks.v1+cell": {
     "cellMetadata": {
      "byteLimit": 2048000,
      "rowLimit": 10000
     },
     "inputWidgets": {},
     "nuid": "50cb0f47-2786-4d8a-9514-913108e338af",
     "showTitle": true,
     "title": "Dropping Duplicates from a Dataframe"
    },
    "colab": {
     "base_uri": "https://localhost:8080/"
    },
    "executionInfo": {
     "elapsed": 1379,
     "status": "ok",
     "timestamp": 1730637747908,
     "user": {
      "displayName": "TAN SWEE NEO KATHLEEN",
      "userId": "08125048316560176091"
     },
     "user_tz": -480
    },
    "id": "irjY05RsBAIB",
    "outputId": "81ffc2be-37b4-4b4a-f9be-bb903633d1e2"
   },
   "outputs": [
    {
     "name": "stdout",
     "output_type": "stream",
     "text": [
      "+--------+----------+------+\n",
      "|Employee|Department|Salary|\n",
      "+--------+----------+------+\n",
      "|    John| Field-eng|  3500|\n",
      "| Michael| Field-eng|  4500|\n",
      "|   Maria|   Finance|  3500|\n",
      "|    John|     Sales|  3000|\n",
      "|   Kelly|   Finance|  3500|\n",
      "|    Kate|   Finance|  3000|\n",
      "|   Kiran|     Sales|  2200|\n",
      "|  Robert|      NULL|  4000|\n",
      "|  Martin|      NULL|  3500|\n",
      "+--------+----------+------+\n",
      "\n"
     ]
    }
   ],
   "source": [
    "new_salary_df = salary_df.dropDuplicates().show()"
   ]
  },
  {
   "cell_type": "markdown",
   "metadata": {
    "application/vnd.databricks.v1+cell": {
     "cellMetadata": {},
     "inputWidgets": {},
     "nuid": "26b09b00-3377-47f5-b54b-350d3126e92c",
     "showTitle": false,
     "title": ""
    },
    "id": "FxeUGVtMBAIB"
   },
   "source": [
    "# 4. Using Aggregrates in a Dataframe\n",
    "\n",
    "## 4.1 avg(), agg(), countDistinct(), sum, max"
   ]
  },
  {
   "cell_type": "code",
   "execution_count": 37,
   "metadata": {
    "application/vnd.databricks.v1+cell": {
     "cellMetadata": {
      "byteLimit": 2048000,
      "rowLimit": 10000
     },
     "inputWidgets": {},
     "nuid": "151c07a1-1bf3-4cc0-98f4-46aad67e67d3",
     "showTitle": true,
     "title": "Average (avg)"
    },
    "colab": {
     "base_uri": "https://localhost:8080/"
    },
    "executionInfo": {
     "elapsed": 1406,
     "status": "ok",
     "timestamp": 1730637752772,
     "user": {
      "displayName": "TAN SWEE NEO KATHLEEN",
      "userId": "08125048316560176091"
     },
     "user_tz": -480
    },
    "id": "p2vhMp4GBAIG",
    "outputId": "f749d031-e12d-48b7-d2fd-8d752dbc5208"
   },
   "outputs": [
    {
     "name": "stdout",
     "output_type": "stream",
     "text": [
      "+-----------+\n",
      "|avg(Salary)|\n",
      "+-----------+\n",
      "|     3520.0|\n",
      "+-----------+\n",
      "\n"
     ]
    }
   ],
   "source": [
    "from pyspark.sql.functions import countDistinct, avg\n",
    "salary_df.select(avg('Salary')).show()\n"
   ]
  },
  {
   "cell_type": "code",
   "execution_count": 38,
   "metadata": {
    "application/vnd.databricks.v1+cell": {
     "cellMetadata": {
      "byteLimit": 2048000,
      "rowLimit": 10000
     },
     "inputWidgets": {},
     "nuid": "b3104546-2fba-4638-987b-100fb9ac53cf",
     "showTitle": true,
     "title": "Count"
    },
    "colab": {
     "base_uri": "https://localhost:8080/"
    },
    "executionInfo": {
     "elapsed": 983,
     "status": "ok",
     "timestamp": 1730637757112,
     "user": {
      "displayName": "TAN SWEE NEO KATHLEEN",
      "userId": "08125048316560176091"
     },
     "user_tz": -480
    },
    "id": "Y1MifV8YBAIH",
    "outputId": "46383231-2dc8-47ad-9f49-e1a1ea876d22"
   },
   "outputs": [
    {
     "name": "stdout",
     "output_type": "stream",
     "text": [
      "+-------------+\n",
      "|count(Salary)|\n",
      "+-------------+\n",
      "|           10|\n",
      "+-------------+\n",
      "\n"
     ]
    }
   ],
   "source": [
    "salary_df.agg({'Salary':'count'}).show()"
   ]
  },
  {
   "cell_type": "code",
   "execution_count": 39,
   "metadata": {
    "application/vnd.databricks.v1+cell": {
     "cellMetadata": {
      "byteLimit": 2048000,
      "rowLimit": 10000
     },
     "inputWidgets": {},
     "nuid": "8a396838-9c08-46f9-ae42-6b5db6c094c8",
     "showTitle": true,
     "title": "Count distinct values"
    },
    "colab": {
     "base_uri": "https://localhost:8080/"
    },
    "executionInfo": {
     "elapsed": 1281,
     "status": "ok",
     "timestamp": 1730637762138,
     "user": {
      "displayName": "TAN SWEE NEO KATHLEEN",
      "userId": "08125048316560176091"
     },
     "user_tz": -480
    },
    "id": "MeWv-4CTBAIH",
    "outputId": "5557c1db-4480-424b-889a-a7e32fc11c7e"
   },
   "outputs": [
    {
     "name": "stdout",
     "output_type": "stream",
     "text": [
      "+---------------+\n",
      "|Distinct Salary|\n",
      "+---------------+\n",
      "|              5|\n",
      "+---------------+\n",
      "\n"
     ]
    }
   ],
   "source": [
    "salary_df.select(countDistinct(\"Salary\").alias(\"Distinct Salary\")).show()"
   ]
  },
  {
   "cell_type": "code",
   "execution_count": 40,
   "metadata": {
    "application/vnd.databricks.v1+cell": {
     "cellMetadata": {
      "byteLimit": 2048000,
      "rowLimit": 10000
     },
     "inputWidgets": {},
     "nuid": "0d17be07-1395-470b-afec-93e6d3a8b893",
     "showTitle": true,
     "title": "Finding maximums (max)"
    },
    "colab": {
     "base_uri": "https://localhost:8080/"
    },
    "executionInfo": {
     "elapsed": 980,
     "status": "ok",
     "timestamp": 1730637765885,
     "user": {
      "displayName": "TAN SWEE NEO KATHLEEN",
      "userId": "08125048316560176091"
     },
     "user_tz": -480
    },
    "id": "aGhK_kkWBAIH",
    "outputId": "4c2d5832-ab79-4d08-ddea-bd1c98bea146"
   },
   "outputs": [
    {
     "name": "stdout",
     "output_type": "stream",
     "text": [
      "+-----------+\n",
      "|max(Salary)|\n",
      "+-----------+\n",
      "|       4500|\n",
      "+-----------+\n",
      "\n"
     ]
    }
   ],
   "source": [
    "salary_df.agg({'Salary':'max'}).show()"
   ]
  },
  {
   "cell_type": "code",
   "execution_count": 41,
   "metadata": {
    "application/vnd.databricks.v1+cell": {
     "cellMetadata": {
      "byteLimit": 2048000,
      "rowLimit": 10000
     },
     "inputWidgets": {},
     "nuid": "dfb27aef-8f62-4c89-b005-e046bc924699",
     "showTitle": true,
     "title": "Sum"
    },
    "colab": {
     "base_uri": "https://localhost:8080/"
    },
    "executionInfo": {
     "elapsed": 1275,
     "status": "ok",
     "timestamp": 1730637770204,
     "user": {
      "displayName": "TAN SWEE NEO KATHLEEN",
      "userId": "08125048316560176091"
     },
     "user_tz": -480
    },
    "id": "5E_IHHmRBAIH",
    "outputId": "aa3ce745-7c93-4c48-808a-e20f88e36d5f"
   },
   "outputs": [
    {
     "name": "stdout",
     "output_type": "stream",
     "text": [
      "+-----------+\n",
      "|sum(Salary)|\n",
      "+-----------+\n",
      "|      35200|\n",
      "+-----------+\n",
      "\n"
     ]
    }
   ],
   "source": [
    "salary_df.agg({'Salary':'sum'}).show()"
   ]
  },
  {
   "cell_type": "markdown",
   "metadata": {},
   "source": [
    "## 4.2 groupBy()"
   ]
  },
  {
   "cell_type": "code",
   "execution_count": 42,
   "metadata": {},
   "outputs": [
    {
     "data": {
      "text/plain": [
       "GroupedData[grouping expressions: [Department], value: [Employee: string, Department: string ... 1 more field], type: GroupBy]"
      ]
     },
     "execution_count": 42,
     "metadata": {},
     "output_type": "execute_result"
    }
   ],
   "source": [
    "salary_df.groupby('Department')"
   ]
  },
  {
   "cell_type": "code",
   "execution_count": 43,
   "metadata": {},
   "outputs": [
    {
     "name": "stdout",
     "output_type": "stream",
     "text": [
      "+----------+------------------+\n",
      "|Department|       avg(Salary)|\n",
      "+----------+------------------+\n",
      "| Field-eng| 4166.666666666667|\n",
      "|      NULL|            3750.0|\n",
      "|   Finance|3333.3333333333335|\n",
      "|     Sales|            2600.0|\n",
      "+----------+------------------+\n",
      "\n"
     ]
    }
   ],
   "source": [
    "salary_df.groupby('Department').avg().show()"
   ]
  },
  {
   "cell_type": "markdown",
   "metadata": {},
   "source": [
    "## 4.3 orderBy()"
   ]
  },
  {
   "cell_type": "code",
   "execution_count": 44,
   "metadata": {
    "application/vnd.databricks.v1+cell": {
     "cellMetadata": {
      "byteLimit": 2048000,
      "rowLimit": 10000
     },
     "inputWidgets": {},
     "nuid": "7d0b8f92-9d16-4cc4-9bc8-8b67db6befd6",
     "showTitle": true,
     "title": "Sort data with OrderBy"
    },
    "colab": {
     "base_uri": "https://localhost:8080/"
    },
    "executionInfo": {
     "elapsed": 977,
     "status": "ok",
     "timestamp": 1730637773711,
     "user": {
      "displayName": "TAN SWEE NEO KATHLEEN",
      "userId": "08125048316560176091"
     },
     "user_tz": -480
    },
    "id": "7FTWGySYBAIH",
    "outputId": "2746bed2-4c2f-485f-c9c1-b262700d05d6"
   },
   "outputs": [
    {
     "name": "stdout",
     "output_type": "stream",
     "text": [
      "+--------+----------+------+\n",
      "|Employee|Department|Salary|\n",
      "+--------+----------+------+\n",
      "|   Kiran|     Sales|  2200|\n",
      "|    Kate|   Finance|  3000|\n",
      "|    John|     Sales|  3000|\n",
      "|    John| Field-eng|  3500|\n",
      "|  Martin|      NULL|  3500|\n",
      "|   Kelly|   Finance|  3500|\n",
      "|   Maria|   Finance|  3500|\n",
      "|  Robert|      NULL|  4000|\n",
      "| Michael| Field-eng|  4500|\n",
      "| Michael| Field-eng|  4500|\n",
      "+--------+----------+------+\n",
      "\n"
     ]
    }
   ],
   "source": [
    "salary_df.orderBy(\"Salary\").show()"
   ]
  },
  {
   "cell_type": "code",
   "execution_count": 45,
   "metadata": {
    "application/vnd.databricks.v1+cell": {
     "cellMetadata": {
      "byteLimit": 2048000,
      "rowLimit": 10000
     },
     "inputWidgets": {},
     "nuid": "021a9f0c-59f2-497e-adbe-f39a2f7b7b21",
     "showTitle": false,
     "title": ""
    },
    "colab": {
     "base_uri": "https://localhost:8080/"
    },
    "executionInfo": {
     "elapsed": 5,
     "status": "ok",
     "timestamp": 1730637777459,
     "user": {
      "displayName": "TAN SWEE NEO KATHLEEN",
      "userId": "08125048316560176091"
     },
     "user_tz": -480
    },
    "id": "SAM8b4QKBAIH",
    "outputId": "fb588223-b6cb-43fe-b526-155a5afd9eda"
   },
   "outputs": [
    {
     "name": "stdout",
     "output_type": "stream",
     "text": [
      "+--------+----------+------+\n",
      "|Employee|Department|Salary|\n",
      "+--------+----------+------+\n",
      "| Michael| Field-eng|  4500|\n",
      "| Michael| Field-eng|  4500|\n",
      "|  Robert|      NULL|  4000|\n",
      "|   Kelly|   Finance|  3500|\n",
      "|   Maria|   Finance|  3500|\n",
      "|  Martin|      NULL|  3500|\n",
      "|    John| Field-eng|  3500|\n",
      "|    John|     Sales|  3000|\n",
      "|    Kate|   Finance|  3000|\n",
      "|   Kiran|     Sales|  2200|\n",
      "+--------+----------+------+\n",
      "\n"
     ]
    }
   ],
   "source": [
    "salary_df.orderBy(salary_df[\"Salary\"].desc()).show()"
   ]
  },
  {
   "cell_type": "code",
   "execution_count": 46,
   "metadata": {},
   "outputs": [
    {
     "name": "stdout",
     "output_type": "stream",
     "text": [
      "+----------+------+\n",
      "|Department|Salary|\n",
      "+----------+------+\n",
      "|      NULL|  7500|\n",
      "| Field-eng| 12500|\n",
      "|   Finance| 10000|\n",
      "|     Sales|  5200|\n",
      "+----------+------+\n",
      "\n"
     ]
    }
   ],
   "source": [
    "from pyspark.sql.functions import col, round\n",
    "\n",
    "salary_df.groupBy('Department')\\\n",
    "  .sum('Salary')\\\n",
    "  .withColumn('sum(Salary)',round(col('sum(Salary)'), 2))\\\n",
    "  .withColumnRenamed('sum(Salary)', 'Salary')\\\n",
    "  .orderBy('Department')\\\n",
    "  .show()"
   ]
  },
  {
   "cell_type": "markdown",
   "metadata": {},
   "source": [
    "## 5. Reading into DataFrame with Programmatically-Defined Schema"
   ]
  },
  {
   "cell_type": "code",
   "execution_count": 47,
   "metadata": {},
   "outputs": [
    {
     "name": "stdout",
     "output_type": "stream",
     "text": [
      "+---+--------+----------+------+\n",
      "| ID|Employee|Department|Salary|\n",
      "+---+--------+----------+------+\n",
      "|  1|    John| Field-eng|3500.0|\n",
      "|  2|  Robert|     Sales|4000.0|\n",
      "|  3|   Maria|   Finance|3500.0|\n",
      "|  4| Michael|     Sales|3000.0|\n",
      "|  5|   Kelly|   Finance|3500.0|\n",
      "|  6|    Kate|   Finance|3000.0|\n",
      "|  7|  Martin|   Finance|3500.0|\n",
      "|  8|   Kiran|     Sales|2200.0|\n",
      "+---+--------+----------+------+\n",
      "\n"
     ]
    }
   ],
   "source": [
    "from pyspark.sql.types import *\n",
    "\n",
    "filepath = 'data/salary_data.csv'\n",
    "\n",
    "schema = StructType([\n",
    "    StructField(\"ID\", IntegerType(),True),\n",
    "    StructField(\"Employee\",  StringType(),True),\n",
    "    StructField(\"Department\",  StringType(),True),\n",
    "    StructField(\"Salary\",  DoubleType(),True)\n",
    "])\n",
    "\n",
    "salary_df = spark.read.format(\"csv\").option(\"header\",\"true\").schema(schema).load(filepath)\n",
    "salary_df.show()"
   ]
  },
  {
   "cell_type": "code",
   "execution_count": 48,
   "metadata": {
    "id": "mvrFvChFbXwZ"
   },
   "outputs": [],
   "source": [
    "spark.stop()"
   ]
  }
 ],
 "metadata": {
  "application/vnd.databricks.v1+notebook": {
   "dashboards": [],
   "language": "python",
   "notebookMetadata": {
    "mostRecentlyExecutedCommandWithImplicitDF": {
     "commandId": 969987236417588,
     "dataframes": [
      "_sqldf"
     ]
    },
    "pythonIndentUnit": 2
   },
   "notebookName": "Chapter 4 Code",
   "widgets": {}
  },
  "colab": {
   "provenance": [
    {
     "file_id": "1IStx5JyD4d9xreuJlDe0-bkkKo1u0IAL",
     "timestamp": 1730637209892
    }
   ]
  },
  "kernelspec": {
   "display_name": "de-venv",
   "language": "python",
   "name": "de-venv"
  },
  "language_info": {
   "codemirror_mode": {
    "name": "ipython",
    "version": 3
   },
   "file_extension": ".py",
   "mimetype": "text/x-python",
   "name": "python",
   "nbconvert_exporter": "python",
   "pygments_lexer": "ipython3",
   "version": "3.10.12"
  }
 },
 "nbformat": 4,
 "nbformat_minor": 4
}
