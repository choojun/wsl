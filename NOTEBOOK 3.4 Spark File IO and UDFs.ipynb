{
 "cells": [
  {
   "cell_type": "markdown",
   "metadata": {
    "application/vnd.databricks.v1+cell": {
     "cellMetadata": {},
     "inputWidgets": {},
     "nuid": "5f9b4e65-714c-46a7-b0ca-2c22d87e349e",
     "showTitle": false,
     "title": ""
    },
    "id": "mEgsCltt_BVP"
   },
   "source": [
    "# NOTEBOOK 3.4 Spark File I/O and User-Defined Functions (UDFs)"
   ]
  },
  {
   "cell_type": "code",
   "execution_count": 1,
   "metadata": {
    "id": "wS4kmCPceySy"
   },
   "outputs": [
    {
     "name": "stderr",
     "output_type": "stream",
     "text": [
      "25/06/12 09:45:50 WARN Utils: Your hostname, PC25. resolves to a loopback address: 127.0.1.1; using 192.168.76.195 instead (on interface eth0)\n",
      "25/06/12 09:45:50 WARN Utils: Set SPARK_LOCAL_IP if you need to bind to another address\n",
      "Setting default log level to \"WARN\".\n",
      "To adjust logging level use sc.setLogLevel(newLevel). For SparkR, use setLogLevel(newLevel).\n",
      "25/06/12 09:45:51 WARN NativeCodeLoader: Unable to load native-hadoop library for your platform... using builtin-java classes where applicable\n"
     ]
    }
   ],
   "source": [
    "from pyspark.sql import SparkSession\n",
    "from pyspark.sql.functions import udf\n",
    "from pyspark.sql.types import StringType\n",
    "\n",
    "spark = SparkSession.builder.getOrCreate()"
   ]
  },
  {
   "cell_type": "code",
   "execution_count": 2,
   "metadata": {
    "id": "PyUbOJRNgMIZ"
   },
   "outputs": [
    {
     "name": "stdout",
     "output_type": "stream",
     "text": [
      "+----+-----------+----------+--------+\n",
      "|code|description|unit_price|quantity|\n",
      "+----+-----------+----------+--------+\n",
      "|1005|        pen|       2.5|       4|\n",
      "|1007|     pencil|       1.0|      10|\n",
      "|1001|   notebook|       5.0|       2|\n",
      "+----+-----------+----------+--------+\n",
      "only showing top 3 rows\n",
      "\n"
     ]
    }
   ],
   "source": [
    "sales_df = spark.read.option(\"sep\", \"\\t\")\\\n",
    "    .option(\"header\", \"true\")\\\n",
    "    .csv(\"data/sales.csv\")\n",
    "\n",
    "sales_df.show(3)"
   ]
  },
  {
   "cell_type": "markdown",
   "metadata": {
    "id": "VHiNf6C7e4Oq"
   },
   "source": [
    "# 1. Spark File I/O\n",
    "- The Hadoop installation in the WSL distro has configured HDFS as the default file system.\n",
    "- To access files in WSL's local file system, the filepath format will start with **\"file://**\".\n",
    "- If files do not have header information in them, you can skip the (header, true) option.\n",
    "\n",
    "## 1.1 Write Data in Different File Formats to HDFS\n",
    "\n",
    "### Instruction:\n",
    "Before running the statements below, create a directory named \"temp\" in /user/student."
   ]
  },
  {
   "cell_type": "code",
   "execution_count": 3,
   "metadata": {
    "application/vnd.databricks.v1+cell": {
     "cellMetadata": {
      "byteLimit": 2048000,
      "rowLimit": 10000
     },
     "inputWidgets": {},
     "nuid": "e4b6f89b-2d68-4937-a30a-ac64ef7caa49",
     "showTitle": true,
     "title": "Create Salary dataframe"
    },
    "colab": {
     "base_uri": "https://localhost:8080/"
    },
    "executionInfo": {
     "elapsed": 717,
     "status": "ok",
     "timestamp": 1749544144233,
     "user": {
      "displayName": "TAN SWEE NEO KATHLEEN",
      "userId": "08125048316560176091"
     },
     "user_tz": -480
    },
    "id": "aI4BccXM_BVW",
    "outputId": "bcf2413b-55da-45e4-8e30-799a8b0b8922"
   },
   "outputs": [],
   "source": [
    "# Writing as a CSV file\n",
    "sales_df.write.mode(\"overwrite\").option(\"header\", \"true\").save(\"temp/sales.csv\")\n",
    "\n",
    "# Writing as a parquet file\n",
    "sales_df.write.parquet('temp/sales.parquet')\n",
    "\n",
    "# Writing as a JSON file\n",
    "sales_df.write.json(\"temp/sales.json\")\n",
    "\n",
    "# Writing as an ORC file\n",
    "sales_df.write.orc('temp/sales.orc', mode='overwrite')"
   ]
  },
  {
   "cell_type": "markdown",
   "metadata": {
    "id": "f7tgqaDDf7dS"
   },
   "source": [
    "## 1.2 Read Data with Different File Formats from HDFS"
   ]
  },
  {
   "cell_type": "code",
   "execution_count": 4,
   "metadata": {
    "id": "nr4SJkn_eYgU"
   },
   "outputs": [
    {
     "name": "stdout",
     "output_type": "stream",
     "text": [
      "+----+-----------+----------+--------+\n",
      "|code|description|unit_price|quantity|\n",
      "+----+-----------+----------+--------+\n",
      "|1005|        pen|       2.5|       4|\n",
      "|1007|     pencil|       1.0|      10|\n",
      "|1001|   notebook|       5.0|       2|\n",
      "|1003|      ruler|       1.0|       1|\n",
      "|1002| calculator|      55.0|       1|\n",
      "+----+-----------+----------+--------+\n",
      "\n"
     ]
    }
   ],
   "source": [
    "# Read a parquet file\n",
    "spark.read.parquet('temp/sales.parquet').show()"
   ]
  },
  {
   "cell_type": "code",
   "execution_count": 5,
   "metadata": {
    "id": "bIj3xqI3eZ4i"
   },
   "outputs": [
    {
     "name": "stdout",
     "output_type": "stream",
     "text": [
      "+----+-----------+--------+----------+\n",
      "|code|description|quantity|unit_price|\n",
      "+----+-----------+--------+----------+\n",
      "|1005|        pen|       4|       2.5|\n",
      "|1007|     pencil|      10|       1.0|\n",
      "|1001|   notebook|       2|       5.0|\n",
      "|1003|      ruler|       1|       1.0|\n",
      "|1002| calculator|       1|      55.0|\n",
      "+----+-----------+--------+----------+\n",
      "\n"
     ]
    }
   ],
   "source": [
    "# Read a JSON file\n",
    "spark.read.json('temp/sales.json').show()"
   ]
  },
  {
   "cell_type": "code",
   "execution_count": 6,
   "metadata": {
    "id": "drag21y-eaGy"
   },
   "outputs": [
    {
     "name": "stdout",
     "output_type": "stream",
     "text": [
      "+----+-----------+----------+--------+\n",
      "|code|description|unit_price|quantity|\n",
      "+----+-----------+----------+--------+\n",
      "|1005|        pen|       2.5|       4|\n",
      "|1007|     pencil|       1.0|      10|\n",
      "|1001|   notebook|       5.0|       2|\n",
      "|1003|      ruler|       1.0|       1|\n",
      "|1002| calculator|      55.0|       1|\n",
      "+----+-----------+----------+--------+\n",
      "\n"
     ]
    }
   ],
   "source": [
    "# Read an ORC file\n",
    "spark.read.orc('temp/sales.orc').show()"
   ]
  },
  {
   "cell_type": "markdown",
   "metadata": {
    "id": "imOvAbdWeaPy"
   },
   "source": [
    "# 2. Spark User-Defined Functions (UDFs)"
   ]
  },
  {
   "cell_type": "code",
   "execution_count": 7,
   "metadata": {
    "colab": {
     "base_uri": "https://localhost:8080/"
    },
    "executionInfo": {
     "elapsed": 15,
     "status": "ok",
     "timestamp": 1749544144247,
     "user": {
      "displayName": "TAN SWEE NEO KATHLEEN",
      "userId": "08125048316560176091"
     },
     "user_tz": -480
    },
    "id": "Ar6pNASw58l0",
    "outputId": "6d181dbc-387e-43a6-dfc9-c6acc7c7a316"
   },
   "outputs": [
    {
     "name": "stdout",
     "output_type": "stream",
     "text": [
      "root\n",
      " |-- code: string (nullable = true)\n",
      " |-- description: string (nullable = true)\n",
      " |-- unit_price: string (nullable = true)\n",
      " |-- quantity: string (nullable = true)\n",
      "\n"
     ]
    }
   ],
   "source": [
    "sales_df.printSchema()"
   ]
  },
  {
   "cell_type": "code",
   "execution_count": 8,
   "metadata": {
    "colab": {
     "base_uri": "https://localhost:8080/"
    },
    "executionInfo": {
     "elapsed": 49,
     "status": "ok",
     "timestamp": 1749544144300,
     "user": {
      "displayName": "TAN SWEE NEO KATHLEEN",
      "userId": "08125048316560176091"
     },
     "user_tz": -480
    },
    "id": "b23GLeRo6Bxs",
    "outputId": "c4404386-2c62-4a93-b3f4-5d6d8294321a"
   },
   "outputs": [
    {
     "name": "stdout",
     "output_type": "stream",
     "text": [
      "root\n",
      " |-- code: string (nullable = true)\n",
      " |-- description: string (nullable = true)\n",
      " |-- unit_price: double (nullable = true)\n",
      " |-- quantity: integer (nullable = true)\n",
      "\n"
     ]
    }
   ],
   "source": [
    "# Cast columns to appropriate types\n",
    "from pyspark.sql.functions import col\n",
    "from pyspark.sql.types import DoubleType, IntegerType\n",
    "\n",
    "sales_df = sales_df\\\n",
    ".withColumn('unit_price', col('unit_price').cast(DoubleType())) \\\n",
    ".withColumn('quantity', col('quantity').cast(IntegerType()))\n",
    "\n",
    "sales_df.printSchema()"
   ]
  },
  {
   "cell_type": "code",
   "execution_count": 9,
   "metadata": {
    "colab": {
     "base_uri": "https://localhost:8080/"
    },
    "executionInfo": {
     "elapsed": 745,
     "status": "ok",
     "timestamp": 1749544145046,
     "user": {
      "displayName": "TAN SWEE NEO KATHLEEN",
      "userId": "08125048316560176091"
     },
     "user_tz": -480
    },
    "id": "54dkXom18Vm1",
    "outputId": "22290f1a-667a-44e8-a741-4c4c3e81c100"
   },
   "outputs": [
    {
     "name": "stdout",
     "output_type": "stream",
     "text": [
      "root\n",
      " |-- item_code: string (nullable = true)\n",
      " |-- discount_perc: double (nullable = true)\n",
      "\n",
      "+---------+-------------+\n",
      "|item_code|discount_perc|\n",
      "+---------+-------------+\n",
      "|     1005|         20.0|\n",
      "|     1007|         10.0|\n",
      "|     1001|         50.0|\n",
      "|     1003|         15.0|\n",
      "|     1002|         10.0|\n",
      "+---------+-------------+\n",
      "\n"
     ]
    }
   ],
   "source": [
    "# Read the discount data\n",
    "discount_df = spark.read.option(\"sep\", \"\\t\")\\\n",
    "    .option(\"header\", \"true\")\\\n",
    "    .csv(\"data/discounts.csv\")\n",
    "\n",
    "discount_df.createOrReplaceTempView('DiscountData')\n",
    "discount_df = spark.sql(\"SELECT item_code, DOUBLE(discount_perc) from DiscountData\")\n",
    "discount_df.printSchema()\n",
    "discount_df.show()"
   ]
  },
  {
   "cell_type": "code",
   "execution_count": 10,
   "metadata": {
    "colab": {
     "base_uri": "https://localhost:8080/"
    },
    "executionInfo": {
     "elapsed": 715,
     "status": "ok",
     "timestamp": 1749544145763,
     "user": {
      "displayName": "TAN SWEE NEO KATHLEEN",
      "userId": "08125048316560176091"
     },
     "user_tz": -480
    },
    "id": "pri2sbAm8nKt",
    "outputId": "85717fe8-0c62-4aed-9042-ef66b1b7d64b"
   },
   "outputs": [
    {
     "name": "stdout",
     "output_type": "stream",
     "text": [
      "+----+-----------+----------+--------+---------+-------------+\n",
      "|code|description|unit_price|quantity|item_code|discount_perc|\n",
      "+----+-----------+----------+--------+---------+-------------+\n",
      "|1005|        pen|       2.5|       4|     1005|         20.0|\n",
      "|1007|     pencil|       1.0|      10|     1007|         10.0|\n",
      "|1001|   notebook|       5.0|       2|     1001|         50.0|\n",
      "|1003|      ruler|       1.0|       1|     1003|         15.0|\n",
      "|1002| calculator|      55.0|       1|     1002|         10.0|\n",
      "+----+-----------+----------+--------+---------+-------------+\n",
      "\n"
     ]
    }
   ],
   "source": [
    "# Join sales_df and discount_df based on the item code\n",
    "sales_df = sales_df.join(discount_df, sales_df.code == discount_df.item_code, \"inner\")\n",
    "sales_df.show()"
   ]
  },
  {
   "cell_type": "code",
   "execution_count": 11,
   "metadata": {
    "colab": {
     "base_uri": "https://localhost:8080/"
    },
    "executionInfo": {
     "elapsed": 676,
     "status": "ok",
     "timestamp": 1749544146441,
     "user": {
      "displayName": "TAN SWEE NEO KATHLEEN",
      "userId": "08125048316560176091"
     },
     "user_tz": -480
    },
    "id": "8ejStHl98na9",
    "outputId": "8aa7b52d-f0ec-4db3-c9a1-dceaad8bc521"
   },
   "outputs": [
    {
     "name": "stdout",
     "output_type": "stream",
     "text": [
      "+----+-----------+----------+--------+-------------+\n",
      "|code|description|unit_price|quantity|discount_perc|\n",
      "+----+-----------+----------+--------+-------------+\n",
      "|1005|        pen|       2.5|       4|         20.0|\n",
      "|1007|     pencil|       1.0|      10|         10.0|\n",
      "|1001|   notebook|       5.0|       2|         50.0|\n",
      "|1003|      ruler|       1.0|       1|         15.0|\n",
      "|1002| calculator|      55.0|       1|         10.0|\n",
      "+----+-----------+----------+--------+-------------+\n",
      "\n"
     ]
    }
   ],
   "source": [
    "# Drop item_code column\n",
    "sales_df = sales_df.drop('item_code')\n",
    "sales_df.show()"
   ]
  },
  {
   "cell_type": "code",
   "execution_count": 12,
   "metadata": {
    "colab": {
     "base_uri": "https://localhost:8080/"
    },
    "executionInfo": {
     "elapsed": 473,
     "status": "ok",
     "timestamp": 1749544146917,
     "user": {
      "displayName": "TAN SWEE NEO KATHLEEN",
      "userId": "08125048316560176091"
     },
     "user_tz": -480
    },
    "id": "jFQL1viG81uO",
    "outputId": "5bd724ad-b6da-4604-d6ae-ed4c74edd021"
   },
   "outputs": [
    {
     "name": "stdout",
     "output_type": "stream",
     "text": [
      "+------------+-----------+----------+--------+-------------+\n",
      "|product_code|description|unit_price|quantity|discount_perc|\n",
      "+------------+-----------+----------+--------+-------------+\n",
      "|        1005|        pen|       2.5|       4|         20.0|\n",
      "|        1007|     pencil|       1.0|      10|         10.0|\n",
      "|        1001|   notebook|       5.0|       2|         50.0|\n",
      "|        1003|      ruler|       1.0|       1|         15.0|\n",
      "|        1002| calculator|      55.0|       1|         10.0|\n",
      "+------------+-----------+----------+--------+-------------+\n",
      "\n"
     ]
    }
   ],
   "source": [
    "# Rename code column\n",
    "sales_df = sales_df.withColumnRenamed('code', 'product_code')\n",
    "sales_df.show()"
   ]
  },
  {
   "cell_type": "markdown",
   "metadata": {},
   "source": [
    "## 2.0 Using a PySpark built-in function"
   ]
  },
  {
   "cell_type": "code",
   "execution_count": 13,
   "metadata": {},
   "outputs": [
    {
     "name": "stdout",
     "output_type": "stream",
     "text": [
      "+------------+-----------+----------+--------+-------------+----------------------+\n",
      "|product_code|description|unit_price|quantity|discount_perc|uppercased_description|\n",
      "+------------+-----------+----------+--------+-------------+----------------------+\n",
      "|        1005|        pen|       2.5|       4|         20.0|                   PEN|\n",
      "|        1007|     pencil|       1.0|      10|         10.0|                PENCIL|\n",
      "|        1001|   notebook|       5.0|       2|         50.0|              NOTEBOOK|\n",
      "|        1003|      ruler|       1.0|       1|         15.0|                 RULER|\n",
      "|        1002| calculator|      55.0|       1|         10.0|            CALCULATOR|\n",
      "+------------+-----------+----------+--------+-------------+----------------------+\n",
      "\n"
     ]
    }
   ],
   "source": [
    "from pyspark.sql.functions import upper\n",
    "\n",
    "sales_df.withColumn('uppercased_description', upper(sales_df.description)).show()"
   ]
  },
  {
   "cell_type": "markdown",
   "metadata": {
    "id": "752857JD2B08"
   },
   "source": [
    "## 2.1 UDF: From a Lambda Expression"
   ]
  },
  {
   "cell_type": "code",
   "execution_count": 14,
   "metadata": {
    "id": "c5UnT7gL2Xhr"
   },
   "outputs": [],
   "source": [
    "# Define a UDF to capitalize a string\n",
    "capitalize_udf = udf(lambda x: x.upper(), StringType())"
   ]
  },
  {
   "cell_type": "code",
   "execution_count": 15,
   "metadata": {
    "application/vnd.databricks.v1+cell": {
     "cellMetadata": {
      "byteLimit": 2048000,
      "rowLimit": 10000
     },
     "inputWidgets": {},
     "nuid": "5d8c6978-6e33-47db-8ad6-8af7cd77d522",
     "showTitle": true,
     "title": "Using udfs"
    },
    "colab": {
     "base_uri": "https://localhost:8080/"
    },
    "executionInfo": {
     "elapsed": 1139,
     "status": "ok",
     "timestamp": 1749544249814,
     "user": {
      "displayName": "TAN SWEE NEO KATHLEEN",
      "userId": "08125048316560176091"
     },
     "user_tz": -480
    },
    "id": "e--FvZyg_BVh",
    "outputId": "f4367af8-c0ea-4a0c-be51-a378bde1c52b"
   },
   "outputs": [
    {
     "name": "stdout",
     "output_type": "stream",
     "text": [
      "+------------+-----------+----------+--------+-------------+----------------+\n",
      "|product_code|description|unit_price|quantity|discount_perc|capitalized_name|\n",
      "+------------+-----------+----------+--------+-------------+----------------+\n",
      "|        1005|        pen|       2.5|       4|         20.0|             PEN|\n",
      "|        1007|     pencil|       1.0|      10|         10.0|          PENCIL|\n",
      "|        1001|   notebook|       5.0|       2|         50.0|        NOTEBOOK|\n",
      "|        1003|      ruler|       1.0|       1|         15.0|           RULER|\n",
      "|        1002| calculator|      55.0|       1|         10.0|      CALCULATOR|\n",
      "+------------+-----------+----------+--------+-------------+----------------+\n",
      "\n"
     ]
    }
   ],
   "source": [
    "# Apply the UDF to a column\n",
    "sales_df = sales_df.withColumn(\"capitalized_name\", capitalize_udf(\"description\"))\n",
    "\n",
    "# Display the result\n",
    "sales_df.show()"
   ]
  },
  {
   "cell_type": "markdown",
   "metadata": {
    "id": "wwCEtCd_2dCk"
   },
   "source": [
    "## 2.2 UDF: Registering an exsting function as a UDF"
   ]
  },
  {
   "cell_type": "code",
   "execution_count": 16,
   "metadata": {},
   "outputs": [],
   "source": [
    "from pyspark.sql.functions import udf\n",
    "\n",
    "def calculate_price(unit_price, quantity):\n",
    "    return unit_price * quantity"
   ]
  },
  {
   "cell_type": "code",
   "execution_count": 17,
   "metadata": {
    "id": "rUmxFkJF2nPE"
   },
   "outputs": [],
   "source": [
    "# UDF registration\n",
    "calculate_price_udf = udf(calculate_price, DoubleType())"
   ]
  },
  {
   "cell_type": "code",
   "execution_count": 18,
   "metadata": {
    "colab": {
     "base_uri": "https://localhost:8080/"
    },
    "executionInfo": {
     "elapsed": 1135,
     "status": "ok",
     "timestamp": 1749544264247,
     "user": {
      "displayName": "TAN SWEE NEO KATHLEEN",
      "userId": "08125048316560176091"
     },
     "user_tz": -480
    },
    "id": "aS-kN2Jo2nZN",
    "outputId": "1696e995-23c2-4399-82f3-4dd50cb4ba1e"
   },
   "outputs": [
    {
     "name": "stdout",
     "output_type": "stream",
     "text": [
      "+------------+-----------+----------+--------+-------------+----------------+--------------+\n",
      "|product_code|description|unit_price|quantity|discount_perc|capitalized_name|original_total|\n",
      "+------------+-----------+----------+--------+-------------+----------------+--------------+\n",
      "|        1005|        pen|       2.5|       4|         20.0|             PEN|          10.0|\n",
      "|        1007|     pencil|       1.0|      10|         10.0|          PENCIL|          10.0|\n",
      "|        1001|   notebook|       5.0|       2|         50.0|        NOTEBOOK|          10.0|\n",
      "|        1003|      ruler|       1.0|       1|         15.0|           RULER|           1.0|\n",
      "|        1002| calculator|      55.0|       1|         10.0|      CALCULATOR|          55.0|\n",
      "+------------+-----------+----------+--------+-------------+----------------+--------------+\n",
      "\n"
     ]
    }
   ],
   "source": [
    "# Use the UDF to compute the total price before discount\n",
    "sales_df = sales_df.withColumn(\"original_total\", calculate_price_udf('unit_price', 'quantity'))\n",
    "sales_df.show()"
   ]
  },
  {
   "cell_type": "markdown",
   "metadata": {
    "id": "cn2X8Yyi3ECb"
   },
   "source": [
    "## 2.3 UDF: Using a UDF created using annotations\n",
    "\n",
    "### IMPORTANT: Ensure that the de_classes subfolder exist in your project folder.\n",
    "- to use this approach, the methods must be static methods (as indicated with the **@staticmethod** annotation).\n",
    "- Refer to the **SalesProcessor** class in sales_processor.py: This class contains 2 UDFs that were created using the **@udf** annotation.\n",
    "\n"
   ]
  },
  {
   "cell_type": "code",
   "execution_count": 19,
   "metadata": {
    "id": "cDiVgBMP2nkU"
   },
   "outputs": [],
   "source": [
    "# Add a file to be downloaded with the Spark job on every node.\n",
    "sc = spark.sparkContext\n",
    "sc.addFile(\"de_classes/sales_processor.py\")\n",
    "\n",
    "# Import the SalesProcessor class\n",
    "from sales_processor import SalesProcessor"
   ]
  },
  {
   "cell_type": "code",
   "execution_count": 20,
   "metadata": {
    "application/vnd.databricks.v1+cell": {
     "cellMetadata": {
      "byteLimit": 2048000,
      "rowLimit": 10000
     },
     "inputWidgets": {},
     "nuid": "19166b9b-a9c2-4e89-959f-abbac8ef8eff",
     "showTitle": false,
     "title": ""
    },
    "colab": {
     "base_uri": "https://localhost:8080/"
    },
    "executionInfo": {
     "elapsed": 1128,
     "status": "ok",
     "timestamp": 1749544276119,
     "user": {
      "displayName": "TAN SWEE NEO KATHLEEN",
      "userId": "08125048316560176091"
     },
     "user_tz": -480
    },
    "id": "uV5ke58u_BVh",
    "outputId": "6674e0b6-1fa0-4244-a40a-8cafa3911c4a"
   },
   "outputs": [
    {
     "name": "stdout",
     "output_type": "stream",
     "text": [
      "+------------+-----------+----------+--------+-------------+----------------+--------------+---------------------+\n",
      "|product_code|description|unit_price|quantity|discount_perc|capitalized_name|original_total|discounted_unit_price|\n",
      "+------------+-----------+----------+--------+-------------+----------------+--------------+---------------------+\n",
      "|        1005|        pen|       2.5|       4|         20.0|             PEN|          10.0|                  2.0|\n",
      "|        1007|     pencil|       1.0|      10|         10.0|          PENCIL|          10.0|                  0.9|\n",
      "|        1001|   notebook|       5.0|       2|         50.0|        NOTEBOOK|          10.0|                  2.5|\n",
      "|        1003|      ruler|       1.0|       1|         15.0|           RULER|           1.0|                 0.85|\n",
      "|        1002| calculator|      55.0|       1|         10.0|      CALCULATOR|          55.0|                 49.5|\n",
      "+------------+-----------+----------+--------+-------------+----------------+--------------+---------------------+\n",
      "\n"
     ]
    }
   ],
   "source": [
    "# Invoke UDF to compute the discounted price\n",
    "sales_df = sales_df.withColumn(\"discounted_unit_price\", SalesProcessor.calculate_discounted_price('unit_price', 'discount_perc'))\n",
    "sales_df.show()"
   ]
  },
  {
   "cell_type": "code",
   "execution_count": 21,
   "metadata": {
    "colab": {
     "base_uri": "https://localhost:8080/"
    },
    "executionInfo": {
     "elapsed": 1543,
     "status": "ok",
     "timestamp": 1749544286775,
     "user": {
      "displayName": "TAN SWEE NEO KATHLEEN",
      "userId": "08125048316560176091"
     },
     "user_tz": -480
    },
    "id": "1ePcfzAC3uSN",
    "outputId": "2999f6cf-74f1-4f49-c956-27f88e1113bc"
   },
   "outputs": [
    {
     "name": "stdout",
     "output_type": "stream",
     "text": [
      "+------------+-----------+----------+--------+-------------+----------------+--------------+---------------------+----------------+\n",
      "|product_code|description|unit_price|quantity|discount_perc|capitalized_name|original_total|discounted_unit_price|discounted_total|\n",
      "+------------+-----------+----------+--------+-------------+----------------+--------------+---------------------+----------------+\n",
      "|        1005|        pen|       2.5|       4|         20.0|             PEN|          10.0|                  2.0|             8.0|\n",
      "|        1007|     pencil|       1.0|      10|         10.0|          PENCIL|          10.0|                  0.9|             9.0|\n",
      "|        1001|   notebook|       5.0|       2|         50.0|        NOTEBOOK|          10.0|                  2.5|             5.0|\n",
      "|        1003|      ruler|       1.0|       1|         15.0|           RULER|           1.0|                 0.85|            0.85|\n",
      "|        1002| calculator|      55.0|       1|         10.0|      CALCULATOR|          55.0|                 49.5|            49.5|\n",
      "+------------+-----------+----------+--------+-------------+----------------+--------------+---------------------+----------------+\n",
      "\n"
     ]
    }
   ],
   "source": [
    "# Compute the discounted total\n",
    "sales_df = sales_df.withColumn(\"discounted_total\", calculate_price_udf('discounted_unit_price', 'quantity'))\n",
    "sales_df.show()"
   ]
  },
  {
   "cell_type": "code",
   "execution_count": 22,
   "metadata": {
    "colab": {
     "base_uri": "https://localhost:8080/"
    },
    "executionInfo": {
     "elapsed": 1334,
     "status": "ok",
     "timestamp": 1749544290762,
     "user": {
      "displayName": "TAN SWEE NEO KATHLEEN",
      "userId": "08125048316560176091"
     },
     "user_tz": -480
    },
    "id": "qhpul8r73ubU",
    "outputId": "45526a6b-848d-4f7b-d759-03c4fa7e7d1f"
   },
   "outputs": [
    {
     "name": "stdout",
     "output_type": "stream",
     "text": [
      "+------------+-----------+----------+--------+-------------+----------------+\n",
      "|product_code|description|unit_price|quantity|discount_perc|discounted_total|\n",
      "+------------+-----------+----------+--------+-------------+----------------+\n",
      "|        1005|        pen|       2.5|       4|         20.0|             8.0|\n",
      "|        1007|     pencil|       1.0|      10|         10.0|             9.0|\n",
      "|        1001|   notebook|       5.0|       2|         50.0|             5.0|\n",
      "|        1003|      ruler|       1.0|       1|         15.0|            0.85|\n",
      "|        1002| calculator|      55.0|       1|         10.0|            49.5|\n",
      "+------------+-----------+----------+--------+-------------+----------------+\n",
      "\n"
     ]
    }
   ],
   "source": [
    "# Select fewer columns for summary df\n",
    "sales_summary_df = sales_df.select('product_code', 'description', 'unit_price', 'quantity', 'discount_perc', 'discounted_total')\n",
    "sales_summary_df.show()"
   ]
  },
  {
   "cell_type": "code",
   "execution_count": 23,
   "metadata": {
    "colab": {
     "base_uri": "https://localhost:8080/"
    },
    "executionInfo": {
     "elapsed": 1230,
     "status": "ok",
     "timestamp": 1749544295266,
     "user": {
      "displayName": "TAN SWEE NEO KATHLEEN",
      "userId": "08125048316560176091"
     },
     "user_tz": -480
    },
    "id": "WQzJdhWR3ugN",
    "outputId": "4425ab84-6ac8-43d9-faf3-2010cec41b99"
   },
   "outputs": [
    {
     "name": "stdout",
     "output_type": "stream",
     "text": [
      "+------------+-----------+----------+--------+-------------+----------------+\n",
      "|product_code|description|unit_price|quantity|discount_perc|discounted_total|\n",
      "+------------+-----------+----------+--------+-------------+----------------+\n",
      "|        1005|        pen|    RM2.50|       4|         20.0|          RM8.00|\n",
      "|        1007|     pencil|    RM1.00|      10|         10.0|          RM9.00|\n",
      "|        1001|   notebook|    RM5.00|       2|         50.0|          RM5.00|\n",
      "|        1003|      ruler|    RM1.00|       1|         15.0|          RM0.85|\n",
      "|        1002| calculator|   RM55.00|       1|         10.0|         RM49.50|\n",
      "+------------+-----------+----------+--------+-------------+----------------+\n",
      "\n"
     ]
    }
   ],
   "source": [
    "# Invoke another UDF to format the price\n",
    "sales_summary_df = sales_summary_df.withColumn('unit_price', SalesProcessor.format_price('unit_price'))\\\n",
    "            .withColumn('discounted_total', SalesProcessor.format_price('discounted_total'))\n",
    "sales_summary_df.show()"
   ]
  },
  {
   "cell_type": "code",
   "execution_count": 24,
   "metadata": {
    "id": "ZQFM07dLIgPG"
   },
   "outputs": [],
   "source": [
    "spark.stop()"
   ]
  }
 ],
 "metadata": {
  "application/vnd.databricks.v1+notebook": {
   "dashboards": [],
   "language": "python",
   "notebookMetadata": {
    "mostRecentlyExecutedCommandWithImplicitDF": {
     "commandId": 969987236417588,
     "dataframes": [
      "_sqldf"
     ]
    },
    "pythonIndentUnit": 2
   },
   "notebookName": "Chapter 6 Code",
   "widgets": {}
  },
  "colab": {
   "provenance": [
    {
     "file_id": "1gvBrds6DyjBhsD6pkyjBp_fFvpTvXfKK",
     "timestamp": 1749541680675
    },
    {
     "file_id": "1IXrf7HSAPGxhdsK1E59L61XdtYXlqR_B",
     "timestamp": 1730636753168
    }
   ]
  },
  "kernelspec": {
   "display_name": "de-venv",
   "language": "python",
   "name": "de-venv"
  },
  "language_info": {
   "codemirror_mode": {
    "name": "ipython",
    "version": 3
   },
   "file_extension": ".py",
   "mimetype": "text/x-python",
   "name": "python",
   "nbconvert_exporter": "python",
   "pygments_lexer": "ipython3",
   "version": "3.10.12"
  }
 },
 "nbformat": 4,
 "nbformat_minor": 4
}
